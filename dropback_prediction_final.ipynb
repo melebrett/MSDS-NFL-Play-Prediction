{
  "cells": [
    {
      "attachments": {},
      "cell_type": "markdown",
      "metadata": {
        "id": "fRTj_zEeuTZU"
      },
      "source": [
        "# NFL Play Prediction: Experiment "
      ]
    },
    {
      "cell_type": "code",
      "execution_count": 1,
      "metadata": {
        "id": "0rarcUx-t0YG"
      },
      "outputs": [],
      "source": [
        "import datetime\n",
        "from packaging import version\n",
        "from collections import Counter\n",
        "import numpy as np\n",
        "import pandas as pd\n",
        "import time\n",
        "import os\n",
        "import re\n",
        "import string\n",
        "\n",
        "import matplotlib.pyplot as plt\n",
        "import matplotlib as mpl\n",
        "import seaborn as sns\n",
        "\n",
        "import nltk\n",
        "from nltk.corpus import stopwords\n",
        "\n",
        "from sklearn.metrics import confusion_matrix, classification_report\n",
        "from sklearn.preprocessing import StandardScaler, LabelEncoder, MinMaxScaler\n",
        "from sklearn.decomposition import PCA\n",
        "from sklearn.manifold import TSNE\n",
        "from sklearn.ensemble import RandomForestClassifier\n",
        "from sklearn.metrics import mean_squared_error as MSE\n",
        "from sklearn.metrics import accuracy_score\n",
        "\n",
        "import tensorflow as tf\n",
        "from tensorflow import keras\n",
        "from tensorflow.keras import layers\n",
        "import tensorflow.keras.backend as k\n",
        "from tensorflow.keras.callbacks import Callback"
      ]
    },
    {
      "attachments": {},
      "cell_type": "markdown",
      "metadata": {
        "id": "U89aBVrst0YG"
      },
      "source": [
        "## Load Data"
      ]
    },
    {
      "attachments": {},
      "cell_type": "markdown",
      "metadata": {
        "id": "FcPPc4SlwoiI"
      },
      "source": [
        "Data via nflfastR. Variable selection, engineering & encoding are done in associated R script."
      ]
    },
    {
      "cell_type": "code",
      "execution_count": 2,
      "metadata": {
        "id": "inNXFz5Ot0YH"
      },
      "outputs": [],
      "source": [
        "filepath = \"data\"\n",
        "# filepath = \"/content/drive/MyDrive/MSDS458_AI_and_DL/Assignment-4/data\"\n",
        "\n",
        "df_train_full = pd.read_csv(f'{filepath}/nfl_plays_train_update.csv')\n",
        "df_valid_full = pd.read_csv(f'{filepath}/nfl_plays_valid_update.csv')\n",
        "df_test_full = pd.read_csv(f'{filepath}/nfl_plays_test_update.csv')"
      ]
    },
    {
      "attachments": {},
      "cell_type": "markdown",
      "metadata": {
        "id": "JfM-aRS-t0YH"
      },
      "source": [
        "## Helper Functions for Data Prep"
      ]
    },
    {
      "attachments": {},
      "cell_type": "markdown",
      "metadata": {
        "id": "Xp2FLtlLKW9v"
      },
      "source": [
        "removing pass location variables"
      ]
    },
    {
      "cell_type": "code",
      "execution_count": 3,
      "metadata": {
        "id": "7BmqGR_zt0YI"
      },
      "outputs": [],
      "source": [
        "def prepPlays(df, include_totals = False, include_wp = True, include_ep = True, include_epa_detail = False, fourth_down = False):\n",
        "    # dropping columns that are not needed\n",
        "    df = df.drop(['season', 'week', 'drive','series', 'surface', 'season_type', 'home_team','away_team', 'spread_line',\n",
        "                   'game_date','play_id', 'desc','two_point_attempt', 'posteam_type','defteam', 'game_half', 'passer_name', 'passer_player_id',\n",
        "                     'quarter_end', 'pass_attempt','rush_attempt','field_goal_attempt', 'punt_attempt', 'half_seconds_remaining', 'drive_play_count', 'pass_deep', 'pass_right', 'pass_left', 'yards_after_catch',\n",
        "                  'pt_run_left_pct', 'pt_run_right_pct', 'pt_rush_wpa_play', 'pt_pass_wpa_play', 'dt_fd_pass_pct',\n",
        "                  'dt_sd_pass_pct', 'dt_td_pass_pct', 'dt_gtg_pass_pct', 'dt_neutral_pass_pct', 'dt_scripted_pass_pct', 'dt_pass_pct',\n",
        "       'dt_run_left_pct', 'dt_run_right_pct', 'dt_rush_wpa_play', 'dt_pass_wpa_play',\n",
        "       'pt_sd_pass_pct', 'pt_td_pass_pct', 'pt_gtg_pass_pct', 'qb_dropback', 'qb_spike', 'qb_scramble', 'no_huddle', 'shotgun',\n",
        "                  ], axis = 1)\n",
        "    if include_totals == False:\n",
        "        df = df.drop(['total_away_rush_epa', 'total_home_rush_epa', 'total_away_pass_epa', 'total_home_pass_epa', 'total_away_rush_wpa', 'total_home_rush_wpa', 'total_away_pass_wpa', 'total_home_pass_wpa'], axis=1)\n",
        "    \n",
        "    if include_wp == False:\n",
        "        df = df.drop(['wp'], axis=1)\n",
        "\n",
        "    if include_ep == False:\n",
        "        df = df.drop(['ep'], axis=1)\n",
        "    \n",
        "    if include_epa_detail == False:\n",
        "        df = df.drop(['air_epa', 'yac_epa'], axis=1)\n",
        "\n",
        "    df['drive_time_of_possession'] = df['drive_time_of_possession'].apply(lambda x: int(x.split(':')[0])*60 + int(x.split(':')[1]))\n",
        "    df['roof'] = df['roof'].apply(lambda x: 'closed' if x == 'dome' else 'open' if x == 'outdoors' else x)\n",
        "    df['roof'] = df['roof'].apply(lambda x: 1 if x == 'closed' else 0)\n",
        "    \n",
        "    # df['game_id_posteam'] = df['game_id'] + df['posteam']\n",
        "    # df = df.drop(['game_id', 'posteam'], axis=1, inplace=True)\n",
        "\n",
        "    # sorting the dataframe by game_id, posteam, and play number\n",
        "    df = df.sort_values(by=['game_id', 'posteam', 'pt_play_no'])\n",
        "\n",
        "    if fourth_down == True:\n",
        "        df = df[df['down'] == 4]\n",
        "        df = df[df['timeout']==0]\n",
        "        df = df[df['pt_penalty'] == 0]\n",
        "        df = df.drop(['down', 'yards_gained', 'epa', 'wpa', 'penalty_yards',\n",
        "                      'pt_fd_pass_pct', 'pt_neutral_pass_pct', 'pt_scripted_pass_pct','pt_pass_pct',\n",
        "                      'qb_hit', 'air_yards', 'first_down'\n",
        "                      ], axis=1)\n",
        "    else:\n",
        "        df = df[df['down'] != 4]\n",
        "        df = df[df['play_type'] != 'field_goal']\n",
        "        df = df[df['play_type'] != 'punt']\n",
        "\n",
        "    return df\n",
        "\n",
        "def encodePlayType(df, play_types):\n",
        "    n_play_types = len(play_types)\n",
        "    df['play_type_encoded'] = df['play_type'].apply(lambda x: play_types.index(x))\n",
        "\n",
        "    return df"
      ]
    },
    {
      "attachments": {},
      "cell_type": "markdown",
      "metadata": {
        "id": "ZAFvZ8Nit0YI"
      },
      "source": [
        "## Helper Functions for Modeling/Post processing"
      ]
    },
    {
      "cell_type": "code",
      "execution_count": 4,
      "metadata": {
        "id": "s3rh1Gtxt0YI"
      },
      "outputs": [],
      "source": [
        "def print_validation_report(test_labels, predictions):\n",
        "    print(\"Classification Report\")\n",
        "    print(classification_report(test_labels, predictions))\n",
        "    print('Accuracy Score: {}'.format(accuracy_score(test_labels, predictions)))\n",
        "    print('Root Mean Square Error: {}'.format(np.sqrt(MSE(test_labels, predictions)))) \n",
        "    \n",
        "def plot_confusion_matrix(y_true, y_pred):\n",
        "    mtx = confusion_matrix(y_true, y_pred)\n",
        "    fig, ax = plt.subplots(figsize=(16,12))\n",
        "    sns.heatmap(mtx, annot=True, fmt='d', linewidths=.75,  cbar=False, ax=ax,cmap='Blues',linecolor='white')\n",
        "    #  square=True,\n",
        "    plt.ylabel('true label')\n",
        "    plt.xlabel('predicted label')\n",
        "\n",
        "def plot_history(history):\n",
        "  losses = history.history['loss']\n",
        "  accs = history.history['accuracy']\n",
        "  val_losses = history.history['val_loss']\n",
        "  val_accs = history.history['val_accuracy']\n",
        "  epochs = len(losses)\n",
        "\n",
        "  plt.figure(figsize=(16, 4))\n",
        "  for i, metrics in enumerate(zip([losses, accs], [val_losses, val_accs], ['Loss', 'Accuracy'])):\n",
        "    plt.subplot(1, 2, i + 1)\n",
        "    plt.plot(range(epochs), metrics[0], label='Training {}'.format(metrics[2]))\n",
        "    plt.plot(range(epochs), metrics[1], label='Validation {}'.format(metrics[2]))\n",
        "    plt.legend()\n",
        "  plt.show()\n",
        "\n",
        "class TimeCallback(Callback):\n",
        "    def on_train_begin(self, logs=None):\n",
        "        self.train_start_time = time.time()\n",
        "\n",
        "    def on_train_end(self, logs=None):\n",
        "        self.train_end_time = time.time()\n",
        "        print(f\"Training time: {self.train_end_time - self.train_start_time} seconds\")"
      ]
    },
    {
      "attachments": {},
      "cell_type": "markdown",
      "metadata": {
        "id": "oxO1pNVOt0YI"
      },
      "source": [
        "## Prep Non-4th down Plays Datasets"
      ]
    },
    {
      "cell_type": "code",
      "execution_count": 5,
      "metadata": {
        "id": "voK4T_SQt0YI"
      },
      "outputs": [],
      "source": [
        "df_train = prepPlays(df_train_full[df_train_full['season'] >= 2020])\n",
        "df_valid = prepPlays(df_valid_full[df_valid_full['season'] >= 2020])\n",
        "df_test = prepPlays(df_test_full[df_test_full['season'] == 2022])"
      ]
    },
    {
      "attachments": {},
      "cell_type": "markdown",
      "metadata": {
        "id": "NEr99DX9t0YJ"
      },
      "source": [
        "check for remaining categorical columns to encode"
      ]
    },
    {
      "cell_type": "code",
      "execution_count": 6,
      "metadata": {
        "colab": {
          "base_uri": "https://localhost:8080/"
        },
        "id": "ZjXKgTuzt0YJ",
        "outputId": "61fe2164-6a02-4d87-864c-ea12ce348ff6"
      },
      "outputs": [
        {
          "name": "stdout",
          "output_type": "stream",
          "text": [
            "number of categorical columns:  3\n",
            "number of numeric columns:  46\n",
            "number of total columns:  49\n",
            "categorical columns  ['game_id' 'play_type' 'posteam']\n"
          ]
        }
      ],
      "source": [
        "print(\"number of categorical columns: \", len(df_train.select_dtypes(include=['object']).columns))\n",
        "print(\"number of numeric columns: \", len(df_train.select_dtypes(include=['int64','float64']).columns))\n",
        "print(\"number of total columns: \", len(df_train.select_dtypes(include=['object']).columns) +  len(df_train.select_dtypes(include=['int64','float64']).columns))\n",
        "print(\"categorical columns \",df_train.select_dtypes(include=['object']).columns.values)"
      ]
    },
    {
      "attachments": {},
      "cell_type": "markdown",
      "metadata": {
        "id": "y-_NSUrYxcuL"
      },
      "source": [
        "good there, now print the remaining features"
      ]
    },
    {
      "cell_type": "code",
      "execution_count": 7,
      "metadata": {
        "colab": {
          "base_uri": "https://localhost:8080/"
        },
        "id": "hJzl-2dIxSye",
        "outputId": "5dd88734-18cf-4e28-81db-7eb1929b6971"
      },
      "outputs": [
        {
          "data": {
            "text/plain": [
              "Index(['total_line', 'drive_time_of_possession', 'yardline_100',\n",
              "       'quarter_seconds_remaining', 'game_seconds_remaining', 'qtr',\n",
              "       'drive_start', 'down', 'goal_to_go', 'ydstogo',\n",
              "       'home_timeouts_remaining', 'away_timeouts_remaining',\n",
              "       'score_differential', 'qb_epa', 'roof', 'temp', 'wind', 'penalty',\n",
              "       'penalty_yards', 'timeout', 'qb_hit', 'air_yards', 'first_down',\n",
              "       'yards_gained', 'epa', 'wpa', 'wp', 'ep', 'pt_play_no', 'pt_spread',\n",
              "       'pt_fd_pass_pct', 'pt_neutral_pass_pct', 'pt_scripted_pass_pct',\n",
              "       'pt_pass_pct', 'pt_rush_epa_play', 'pt_pass_epa_play',\n",
              "       'dt_rush_epa_play', 'dt_pass_epa_play', 'pos_team_game_no',\n",
              "       'def_team_game_no', 'qb_pass_attempts', 'qb_pass_epa_play_adj',\n",
              "       'qb_pass_wpa_play_adj', 'pt_penalty', 'pt_timeout', 'pt_home'],\n",
              "      dtype='object')"
            ]
          },
          "execution_count": 7,
          "metadata": {},
          "output_type": "execute_result"
        }
      ],
      "source": [
        "df_train.select_dtypes(include  =['int64', 'int32', 'float32', 'float64']).columns"
      ]
    },
    {
      "attachments": {},
      "cell_type": "markdown",
      "metadata": {
        "id": "wf9ffQ8ft0YK"
      },
      "source": [
        "## Encode target variable"
      ]
    },
    {
      "cell_type": "code",
      "execution_count": 8,
      "metadata": {},
      "outputs": [],
      "source": [
        "# df_train['run_direction'] = df_train['play_type'].map({'run_left':'left', 'run_right':'right', 'run_middle':'middle'})\n",
        "df_train['play_type'] = df_train['play_type'].map({'run_left':'run', 'run_right':'run', 'run_middle':'run', 'pass':'pass', 'field_goal':'fg', 'punt':'punt'})\n",
        "\n",
        "# df_valid['run_direction'] = df_valid['play_type'].map({'run_left':'left', 'run_right':'right', 'run_middle':'middle'})\n",
        "df_valid['play_type'] = df_valid['play_type'].map({'run_left':'run', 'run_right':'run', 'run_middle':'run', 'pass':'pass', 'field_goal':'fg', 'punt':'punt'})\n",
        "\n",
        "# df_test['run_direction'] = df_test['play_type'].map({'run_left':'left', 'run_right':'right', 'run_middle':'middle'})\n",
        "df_test['play_type'] = df_test['play_type'].map({'run_left':'run', 'run_right':'run', 'run_middle':'run', 'pass':'pass', 'field_goal':'fg', 'punt':'punt'})"
      ]
    },
    {
      "cell_type": "code",
      "execution_count": 9,
      "metadata": {
        "id": "Eu8RUR1nt0YK"
      },
      "outputs": [],
      "source": [
        "label_encoder = LabelEncoder()\n",
        "\n",
        "df_train['play_type_encoded'] = label_encoder.fit_transform(df_train['play_type'])\n",
        "df_valid['play_type_encoded'] = label_encoder.fit_transform(df_valid['play_type'])\n",
        "df_test['play_type_encoded'] = label_encoder.fit_transform(df_test['play_type'])"
      ]
    },
    {
      "attachments": {},
      "cell_type": "markdown",
      "metadata": {
        "id": "t6iGgZpkyL9p"
      },
      "source": [
        "Check class balance"
      ]
    },
    {
      "cell_type": "code",
      "execution_count": 10,
      "metadata": {
        "colab": {
          "base_uri": "https://localhost:8080/"
        },
        "id": "UXNQbaQIt0YK",
        "outputId": "147d95f6-d43d-4f7c-ce1e-0cb5d0c60080"
      },
      "outputs": [
        {
          "name": "stdout",
          "output_type": "stream",
          "text": [
            "play_type_encoded  play_type\n",
            "0                  pass         29618\n",
            "1                  run          18783\n",
            "dtype: int64\n",
            "play_type_encoded  play_type\n",
            "0                  pass         10178\n",
            "1                  run           6403\n",
            "dtype: int64\n",
            "play_type_encoded  play_type\n",
            "0                  pass         19739\n",
            "1                  run          13178\n",
            "dtype: int64\n"
          ]
        }
      ],
      "source": [
        "print(df_train.groupby(['play_type_encoded', 'play_type']).size())\n",
        "print(df_valid.groupby(['play_type_encoded', 'play_type']).size())\n",
        "print(df_test.groupby(['play_type_encoded', 'play_type']).size())"
      ]
    },
    {
      "cell_type": "code",
      "execution_count": 11,
      "metadata": {},
      "outputs": [
        {
          "data": {
            "image/png": "[encoded data removed]",
            "text/plain": [
              "<Figure size 1200x800 with 1 Axes>"
            ]
          },
          "metadata": {},
          "output_type": "display_data"
        }
      ],
      "source": [
        "plt.figure(figsize = (12 ,8))\n",
        "items = [{'Class': x, 'Count': y} for x, y in Counter(df_train['play_type']).items()]\n",
        "distribution = pd.DataFrame(items).sort_values(['Class'])\n",
        "sns.barplot(x=distribution.Class, y=distribution.Count);"
      ]
    },
    {
      "attachments": {},
      "cell_type": "markdown",
      "metadata": {
        "id": "CgN0Qcr-t0YK"
      },
      "source": [
        "## Scale Numeric Columns"
      ]
    },
    {
      "cell_type": "code",
      "execution_count": 12,
      "metadata": {
        "id": "bsuj5xH8t0YK"
      },
      "outputs": [],
      "source": [
        "scaler = MinMaxScaler()\n",
        "numeric_cols = df_train.select_dtypes(include=['int64','float64']).columns\n",
        "numeric_cols = numeric_cols[numeric_cols != 'pt_play_no']\n",
        "numeric_cols = numeric_cols[numeric_cols != 'play_type_encoded']\n",
        "numeric_cols = numeric_cols[numeric_cols != 'run_direction_encoded']\n",
        "\n",
        "scaler.fit(df_train[numeric_cols])\n",
        "\n",
        "df_train[numeric_cols] = scaler.transform(df_train[numeric_cols])\n",
        "df_valid[numeric_cols] = scaler.transform(df_valid[numeric_cols])\n",
        "df_test[numeric_cols] = scaler.transform(df_test[numeric_cols])"
      ]
    },
    {
      "attachments": {},
      "cell_type": "markdown",
      "metadata": {
        "id": "DngriQ7yt0YK"
      },
      "source": [
        "reordering for display purposes"
      ]
    },
    {
      "cell_type": "code",
      "execution_count": 13,
      "metadata": {
        "id": "orDk9KC6t0YK"
      },
      "outputs": [],
      "source": [
        "colorder = ['game_id', 'posteam', 'pt_play_no', 'play_type', 'play_type_encoded']\n",
        "colorder = colorder + [col for col in df_train.columns if col not in colorder]\n",
        "df_train = df_train[colorder]\n",
        "df_valid = df_valid[colorder]\n",
        "df_test = df_test[colorder]"
      ]
    },
    {
      "attachments": {},
      "cell_type": "markdown",
      "metadata": {
        "id": "_7wyIeZht0YL"
      },
      "source": [
        "## Slice and restructure data"
      ]
    },
    {
      "attachments": {},
      "cell_type": "markdown",
      "metadata": {
        "id": "nMhN8fMet0YL"
      },
      "source": [
        "Select columns and create lists grouped by posteam game. Structure is ***(posteam_games X plays_in_game X features)***"
      ]
    },
    {
      "cell_type": "code",
      "execution_count": 14,
      "metadata": {
        "id": "z4n5Mje3t0YL"
      },
      "outputs": [],
      "source": [
        "# convert to sequences of plays for each posteam/game\n",
        "X_train = df_train.drop(['pt_play_no', 'play_type', 'play_type_encoded'],axis = 1).groupby(['game_id', 'posteam']).apply(lambda x: x.values.tolist()).tolist()\n",
        "Y_train = df_train[['game_id','posteam', 'play_type_encoded']].groupby(['game_id', 'posteam']).apply(lambda x: x.values.tolist()).tolist()\n",
        "\n",
        "X_valid = df_valid.drop(['pt_play_no', 'play_type', 'play_type_encoded'],axis = 1).groupby(['game_id', 'posteam']).apply(lambda x: x.values.tolist()).tolist()\n",
        "Y_valid = df_valid[['game_id','posteam', 'play_type_encoded']].groupby(['game_id', 'posteam']).apply(lambda x: x.values.tolist()).tolist()\n",
        "\n",
        "X_test = df_test.drop(['pt_play_no', 'play_type', 'play_type_encoded'],axis = 1).groupby(['game_id', 'posteam']).apply(lambda x: x.values.tolist()).tolist()\n",
        "Y_test = df_test[['game_id','posteam', 'play_type_encoded']].groupby(['game_id', 'posteam']).apply(lambda x: x.values.tolist()).tolist()"
      ]
    },
    {
      "cell_type": "code",
      "execution_count": 15,
      "metadata": {
        "id": "7sRh9EWHt0YL"
      },
      "outputs": [],
      "source": [
        "# remove the identifier columns for each dataset\n",
        "for i in range(len(X_train)):\n",
        "    for j in range(len(X_train[i])):\n",
        "        X_train[i][j] = X_train[i][j][2:]\n",
        "\n",
        "for i in range(len(Y_train)):\n",
        "    for j in range(len(Y_train[i])):\n",
        "        Y_train[i][j] = Y_train[i][j][2:]\n",
        "\n",
        "for i in range(len(X_valid)):\n",
        "    for j in range(len(X_valid[i])):\n",
        "        X_valid[i][j] = X_valid[i][j][2:]\n",
        "\n",
        "for i in range(len(Y_valid)):\n",
        "    for j in range(len(Y_valid[i])):\n",
        "        Y_valid[i][j] = Y_valid[i][j][2:]\n",
        "\n",
        "for i in range(len(X_test)):\n",
        "    for j in range(len(X_test[i])):\n",
        "        X_test[i][j] = X_test[i][j][2:]\n",
        "\n",
        "for i in range(len(Y_test)):\n",
        "    for j in range(len(Y_test[i])):\n",
        "        Y_test[i][j] = Y_test[i][j][2:]"
      ]
    },
    {
      "cell_type": "code",
      "execution_count": 16,
      "metadata": {
        "colab": {
          "base_uri": "https://localhost:8080/"
        },
        "id": "EKpeA40st0YL",
        "outputId": "a560bcf9-981f-426c-9558-2bdfdab56f57"
      },
      "outputs": [
        {
          "name": "stdout",
          "output_type": "stream",
          "text": [
            "X dims\n",
            "number of games:  786\n",
            "average number of plays per game:  61.57888040712468\n",
            "maximum number of plays per game: 90\n",
            "total number of plays:  48401\n",
            "number of features:  45\n",
            "\n",
            "Y dims\n",
            "number of games:  786\n",
            "average number of plays per game:  61.57888040712468\n",
            "maximum number of plays per game: 90\n",
            "total number of plays:  48401\n",
            "number of features:  1\n"
          ]
        }
      ],
      "source": [
        "def print_dimensions(nested_list):\n",
        "    if isinstance(nested_list, list):\n",
        "        print(\"number of games: \", len(nested_list))\n",
        "        play_count = 0\n",
        "        play_list = []\n",
        "        for i in nested_list:\n",
        "            plays = len(i)\n",
        "            play_count += plays\n",
        "            play_list.append(plays)\n",
        "        print(\"average number of plays per game: \", np.mean(play_list))\n",
        "        print(\"maximum number of plays per game:\", np.max(play_list))\n",
        "        print(\"total number of plays: \", play_count)\n",
        "        print(\"number of features: \", len(nested_list[0][0]))\n",
        "    else:\n",
        "        print()\n",
        "        \n",
        "print(\"X dims\")\n",
        "print_dimensions(X_train)\n",
        "print(\"\")\n",
        "print(\"Y dims\")\n",
        "print_dimensions(Y_train)"
      ]
    },
    {
      "cell_type": "code",
      "execution_count": 17,
      "metadata": {
        "colab": {
          "base_uri": "https://localhost:8080/"
        },
        "id": "a7uo1S4O1MVh",
        "outputId": "77a6e33a-f88f-49fe-b0f5-b5263f2bd093"
      },
      "outputs": [
        {
          "name": "stdout",
          "output_type": "stream",
          "text": [
            "X dims\n",
            "number of games:  270\n",
            "average number of plays per game:  61.41111111111111\n",
            "maximum number of plays per game: 90\n",
            "total number of plays:  16581\n",
            "number of features:  45\n",
            "\n",
            "Y dims\n",
            "number of games:  270\n",
            "average number of plays per game:  61.41111111111111\n",
            "maximum number of plays per game: 90\n",
            "total number of plays:  16581\n",
            "number of features:  1\n"
          ]
        }
      ],
      "source": [
        "# validation\n",
        "print(\"X dims\")\n",
        "print_dimensions(X_valid)\n",
        "print(\"\")\n",
        "print(\"Y dims\")\n",
        "print_dimensions(Y_valid)"
      ]
    },
    {
      "cell_type": "code",
      "execution_count": 18,
      "metadata": {
        "colab": {
          "base_uri": "https://localhost:8080/"
        },
        "id": "ekBRKzad1YH7",
        "outputId": "d3801f67-5fa0-41c5-c819-730ce9a86b7a"
      },
      "outputs": [
        {
          "name": "stdout",
          "output_type": "stream",
          "text": [
            "X dims\n",
            "number of games:  542\n",
            "average number of plays per game:  60.73247232472325\n",
            "maximum number of plays per game: 91\n",
            "total number of plays:  32917\n",
            "number of features:  45\n",
            "\n",
            "Y dims\n",
            "number of games:  542\n",
            "average number of plays per game:  60.73247232472325\n",
            "maximum number of plays per game: 91\n",
            "total number of plays:  32917\n",
            "number of features:  1\n"
          ]
        }
      ],
      "source": [
        "# validation\n",
        "print(\"X dims\")\n",
        "print_dimensions(X_test)\n",
        "print(\"\")\n",
        "print(\"Y dims\")\n",
        "print_dimensions(Y_test)"
      ]
    },
    {
      "attachments": {},
      "cell_type": "markdown",
      "metadata": {
        "id": "RH7u2Esnt0YM"
      },
      "source": [
        "## Create timeseries datasets"
      ]
    },
    {
      "attachments": {},
      "cell_type": "markdown",
      "metadata": {
        "id": "6CpwoRcft0YM"
      },
      "source": [
        "pad sequences"
      ]
    },
    {
      "cell_type": "code",
      "execution_count": 19,
      "metadata": {
        "id": "r1sPD-CXt0YM"
      },
      "outputs": [],
      "source": [
        "# pad sequences to max length\n",
        "def padSequence(x_sequence, y_sequence, max_length = 105):\n",
        "    X_padded = []\n",
        "    Y_padded = []\n",
        "    for i in range(len(x_sequence)):\n",
        "        padded = np.pad(x_sequence[i], ((0, max_length-np.array(x_sequence[i]).shape[0]), (0,0)), 'constant')\n",
        "        X_padded.append(padded)\n",
        "    for i in range(len(y_sequence)):\n",
        "        padded = np.pad(y_sequence[i], ((0, max_length-np.array(y_sequence[i]).shape[0]), (0,0)), 'constant')\n",
        "        Y_padded.append(padded)\n",
        "    return np.array(X_padded), np.array(Y_padded)\n",
        "\n",
        "\n",
        "max_length = 91\n",
        "X_train_padded, Y_train_padded = padSequence(X_train, Y_train, max_length)\n",
        "X_valid_padded, Y_valid_padded = padSequence(X_valid, Y_valid, max_length)\n",
        "X_test_padded, Y_test_padded = padSequence(X_test, Y_test, max_length)"
      ]
    },
    {
      "attachments": {},
      "cell_type": "markdown",
      "metadata": {
        "id": "TS74yC-xt0YM"
      },
      "source": [
        "Using the timeseries_dataset_from_array utility, but want to ensure that sequences are only created within the same game, and not overlapping games. Here, we loop through the games and create windowed sequences of a specified length for each game. For each game there will be one dataset object, which we then have to concatenate using the concatenate Dataset method."
      ]
    },
    {
      "cell_type": "code",
      "execution_count": 20,
      "metadata": {
        "id": "HByaIS5Et0YN"
      },
      "outputs": [],
      "source": [
        "sequence_length = 15\n",
        "batch_size = 32\n",
        "n_feats = len(X_train[0][0])\n",
        "delay = sequence_length + 1 - 1\n",
        "train_datasets = []\n",
        "valid_datasets = []\n",
        "test_datasets = []\n",
        "for i in range(len(X_train)):\n",
        "    dataset = tf.keras.utils.timeseries_dataset_from_array(\n",
        "        X_train_padded[i][:-delay],\n",
        "        targets = np.ravel(Y_train_padded[i][delay:]),\n",
        "        sequence_length = sequence_length,\n",
        "        batch_size=batch_size\n",
        "    )\n",
        "    train_datasets.append(dataset)\n",
        "\n",
        "train_dataset = train_datasets[0]\n",
        "for i in range(1, len(train_datasets)):\n",
        "    train_dataset = train_dataset.concatenate(train_datasets[i])\n",
        "\n",
        "for i in range(len(X_valid_padded)):\n",
        "    dataset = tf.keras.utils.timeseries_dataset_from_array(\n",
        "        X_valid_padded[i][:-delay],\n",
        "        targets = np.ravel(Y_valid_padded[i][delay:]),\n",
        "        sequence_length = sequence_length,\n",
        "        batch_size=batch_size\n",
        "    )\n",
        "    valid_datasets.append(dataset)\n",
        "\n",
        "valid_dataset = valid_datasets[0]\n",
        "for i in range(1, len(valid_datasets)):\n",
        "    valid_dataset = valid_dataset.concatenate(valid_datasets[i])\n",
        "\n",
        "for i in range(len(X_test_padded)):\n",
        "    dataset = tf.keras.utils.timeseries_dataset_from_array(\n",
        "        X_test_padded[i][:-delay],\n",
        "        targets = np.ravel(Y_test_padded[i][delay:]),\n",
        "        sequence_length = sequence_length,\n",
        "        batch_size=batch_size\n",
        "    )\n",
        "    test_datasets.append(dataset)\n",
        "\n",
        "test_dataset = test_datasets[0]\n",
        "for i in range(1, len(test_datasets)):\n",
        "    test_dataset = test_dataset.concatenate(test_datasets[i])"
      ]
    },
    {
      "attachments": {},
      "cell_type": "markdown",
      "metadata": {
        "id": "GOpTn5mIt0YZ"
      },
      "source": [
        "check the dimensions of the data within the train_dataset"
      ]
    },
    {
      "cell_type": "code",
      "execution_count": 21,
      "metadata": {
        "id": "7pDTV4oKt0YZ"
      },
      "outputs": [],
      "source": [
        "# for element in train_dataset:\n",
        "#     # print(element[0])\n",
        "#     print(\"features\")\n",
        "#     print(element[0].shape)\n",
        "#     # print(element[1])\n",
        "#     print(\"targets\")\n",
        "#     print(element[1].shape)\n",
        "#     break"
      ]
    },
    {
      "attachments": {},
      "cell_type": "markdown",
      "metadata": {
        "id": "PM5cav_lt0Ya"
      },
      "source": [
        "## Build Models"
      ]
    },
    {
      "attachments": {},
      "cell_type": "markdown",
      "metadata": {},
      "source": [
        "### Dropback Model 01"
      ]
    },
    {
      "attachments": {},
      "cell_type": "markdown",
      "metadata": {},
      "source": [
        "class weights"
      ]
    },
    {
      "cell_type": "code",
      "execution_count": 22,
      "metadata": {},
      "outputs": [
        {
          "data": {
            "text/plain": [
              "{0: 0.8170875818758863, 1: 1.2884257040941276}"
            ]
          },
          "execution_count": 22,
          "metadata": {},
          "output_type": "execute_result"
        }
      ],
      "source": [
        "from sklearn.utils.class_weight import compute_class_weight\n",
        "\n",
        "class_labels = np.unique(df_train['play_type_encoded'])\n",
        "class_weights = compute_class_weight('balanced', classes = class_labels, y = df_train['play_type_encoded'])\n",
        "class_weight_dict = dict(zip(class_labels, class_weights))\n",
        "\n",
        "class_weight_dict"
      ]
    },
    {
      "cell_type": "code",
      "execution_count": 23,
      "metadata": {},
      "outputs": [
        {
          "name": "stdout",
          "output_type": "stream",
          "text": [
            "Model: \"model\"\n",
            "_________________________________________________________________\n",
            " Layer (type)                Output Shape              Param #   \n",
            "=================================================================\n",
            " input_1 (InputLayer)        [(None, 15, 45)]          0         \n",
            "                                                                 \n",
            " masking (Masking)           (None, 15, 45)            0         \n",
            "                                                                 \n",
            " bidirectional (Bidirectiona  (None, 64)               19968     \n",
            " l)                                                              \n",
            "                                                                 \n",
            " dropout (Dropout)           (None, 64)                0         \n",
            "                                                                 \n",
            " dense (Dense)               (None, 2)                 130       \n",
            "                                                                 \n",
            "=================================================================\n",
            "Total params: 20,098\n",
            "Trainable params: 20,098\n",
            "Non-trainable params: 0\n",
            "_________________________________________________________________\n"
          ]
        }
      ],
      "source": [
        "keras.backend.clear_session()\n",
        "\n",
        "inputs = keras.Input(shape=(sequence_length, n_feats))\n",
        "x = keras.layers.Masking(mask_value=0.0)(inputs)\n",
        "x = keras.layers.Bidirectional(keras.layers.LSTM(32, recurrent_dropout = .1, return_sequences = False))(x)\n",
        "x = keras.layers.Dropout(0.3)(x)\n",
        "outputs = keras.layers.Dense(2, activation=\"softmax\")(x)\n",
        "model = keras.Model(inputs=inputs, outputs=outputs)\n",
        "\n",
        "model.summary()"
      ]
    },
    {
      "cell_type": "code",
      "execution_count": 24,
      "metadata": {},
      "outputs": [
        {
          "name": "stdout",
          "output_type": "stream",
          "text": [
            "Epoch 1/25\n",
            "1572/1572 [==============================] - 61s 37ms/step - loss: 0.5684 - accuracy: 0.6872 - val_loss: 0.5352 - val_accuracy: 0.6912\n",
            "Epoch 2/25\n",
            "1572/1572 [==============================] - 41s 26ms/step - loss: 0.5270 - accuracy: 0.7085 - val_loss: 0.5123 - val_accuracy: 0.7163\n",
            "Epoch 3/25\n",
            "1572/1572 [==============================] - 57s 36ms/step - loss: 0.5130 - accuracy: 0.7190 - val_loss: 0.4958 - val_accuracy: 0.7302\n",
            "Epoch 4/25\n",
            "1572/1572 [==============================] - 57s 36ms/step - loss: 0.5038 - accuracy: 0.7256 - val_loss: 0.4909 - val_accuracy: 0.7314\n",
            "Epoch 5/25\n",
            "1572/1572 [==============================] - 60s 38ms/step - loss: 0.4961 - accuracy: 0.7294 - val_loss: 0.4815 - val_accuracy: 0.7370\n",
            "Epoch 6/25\n",
            "1572/1572 [==============================] - 62s 40ms/step - loss: 0.4946 - accuracy: 0.7293 - val_loss: 0.4823 - val_accuracy: 0.7381\n",
            "Epoch 7/25\n",
            "1572/1572 [==============================] - 62s 39ms/step - loss: 0.4899 - accuracy: 0.7316 - val_loss: 0.4807 - val_accuracy: 0.7383\n",
            "Epoch 8/25\n",
            "1572/1572 [==============================] - 57s 36ms/step - loss: 0.4864 - accuracy: 0.7342 - val_loss: 0.4742 - val_accuracy: 0.7402\n",
            "Epoch 9/25\n",
            "1572/1572 [==============================] - 61s 39ms/step - loss: 0.4861 - accuracy: 0.7334 - val_loss: 0.4770 - val_accuracy: 0.7337\n",
            "Epoch 10/25\n",
            "1572/1572 [==============================] - 62s 39ms/step - loss: 0.4821 - accuracy: 0.7388 - val_loss: 0.4738 - val_accuracy: 0.7357\n",
            "Epoch 11/25\n",
            "1572/1572 [==============================] - 57s 37ms/step - loss: 0.4795 - accuracy: 0.7396 - val_loss: 0.4732 - val_accuracy: 0.7382\n",
            "Epoch 12/25\n",
            "1572/1572 [==============================] - 58s 37ms/step - loss: 0.4789 - accuracy: 0.7393 - val_loss: 0.4789 - val_accuracy: 0.7334\n",
            "Epoch 13/25\n",
            "1572/1572 [==============================] - 64s 41ms/step - loss: 0.4767 - accuracy: 0.7414 - val_loss: 0.4730 - val_accuracy: 0.7360\n",
            "Training time: 956.3659620285034 seconds\n"
          ]
        }
      ],
      "source": [
        "model.compile(optimizer = \"Adam\", loss = \"sparse_categorical_crossentropy\", metrics = ['accuracy'])\n",
        "callbacks = [keras.callbacks.ModelCheckpoint(\"nflplay_db_01.h5\", save_best_only=True),\n",
        "             keras.callbacks.EarlyStopping(monitor = 'val_accuracy',patience=5),\n",
        "             TimeCallback()]\n",
        "history = model.fit(train_dataset, class_weight = class_weight_dict, epochs = 25, validation_data = valid_dataset, callbacks = callbacks)"
      ]
    },
    {
      "cell_type": "code",
      "execution_count": 25,
      "metadata": {},
      "outputs": [
        {
          "name": "stdout",
          "output_type": "stream",
          "text": [
            "1084/1084 [==============================] - 128s 18ms/step - loss: 0.4683 - accuracy: 0.7405\n"
          ]
        },
        {
          "data": {
            "text/plain": [
              "[0.46829891204833984, 0.7405368685722351]"
            ]
          },
          "execution_count": 25,
          "metadata": {},
          "output_type": "execute_result"
        }
      ],
      "source": [
        "model = keras.models.load_model(\"nflplay_db_01.h5\")\n",
        "model.evaluate(test_dataset)"
      ]
    },
    {
      "cell_type": "code",
      "execution_count": 26,
      "metadata": {},
      "outputs": [
        {
          "name": "stdout",
          "output_type": "stream",
          "text": [
            "1084/1084 [==============================] - 18s 16ms/step\n"
          ]
        },
        {
          "data": {
            "image/png": "[encoded data removed]",
            "text/plain": [
              "<Figure size 1600x1200 with 1 Axes>"
            ]
          },
          "metadata": {},
          "output_type": "display_data"
        }
      ],
      "source": [
        "y_pred = model.predict(test_dataset)\n",
        "y_class_pred = np.argmax(y_pred, axis=-1)\n",
        "y_act = np.concatenate([y for _, y in test_dataset], axis=0)\n",
        "\n",
        "plot_confusion_matrix(y_act, y_class_pred)"
      ]
    },
    {
      "cell_type": "code",
      "execution_count": 27,
      "metadata": {},
      "outputs": [
        {
          "name": "stdout",
          "output_type": "stream",
          "text": [
            "Classification Report\n",
            "              precision    recall  f1-score   support\n",
            "\n",
            "           0       0.87      0.75      0.80     23930\n",
            "           1       0.54      0.72      0.61      9674\n",
            "\n",
            "    accuracy                           0.74     33604\n",
            "   macro avg       0.70      0.73      0.71     33604\n",
            "weighted avg       0.77      0.74      0.75     33604\n",
            "\n",
            "Accuracy Score: 0.7405368408522794\n",
            "Root Mean Square Error: 0.5093752635805163\n"
          ]
        }
      ],
      "source": [
        "print_validation_report(y_act, y_class_pred)"
      ]
    },
    {
      "attachments": {},
      "cell_type": "markdown",
      "metadata": {},
      "source": [
        "### Dropback Model 2"
      ]
    },
    {
      "cell_type": "code",
      "execution_count": 28,
      "metadata": {},
      "outputs": [
        {
          "name": "stdout",
          "output_type": "stream",
          "text": [
            "Model: \"model\"\n",
            "_________________________________________________________________\n",
            " Layer (type)                Output Shape              Param #   \n",
            "=================================================================\n",
            " input_1 (InputLayer)        [(None, 15, 45)]          0         \n",
            "                                                                 \n",
            " masking (Masking)           (None, 15, 45)            0         \n",
            "                                                                 \n",
            " bidirectional (Bidirectiona  (None, 32)               7936      \n",
            " l)                                                              \n",
            "                                                                 \n",
            " dropout (Dropout)           (None, 32)                0         \n",
            "                                                                 \n",
            " dense (Dense)               (None, 32)                1056      \n",
            "                                                                 \n",
            " dropout_1 (Dropout)         (None, 32)                0         \n",
            "                                                                 \n",
            " dense_1 (Dense)             (None, 2)                 66        \n",
            "                                                                 \n",
            "=================================================================\n",
            "Total params: 9,058\n",
            "Trainable params: 9,058\n",
            "Non-trainable params: 0\n",
            "_________________________________________________________________\n"
          ]
        }
      ],
      "source": [
        "keras.backend.clear_session()\n",
        "\n",
        "inputs = keras.Input(shape=(sequence_length, n_feats))\n",
        "x = keras.layers.Masking(mask_value=0.0)(inputs)\n",
        "x = keras.layers.Bidirectional(keras.layers.LSTM(16, recurrent_dropout = .1, return_sequences = False))(x)\n",
        "x = keras.layers.Dropout(0.3)(x)\n",
        "x = keras.layers.Dense(32, activation=\"relu\")(x)\n",
        "x = keras.layers.Dropout(0.3)(x)\n",
        "outputs = keras.layers.Dense(2, activation=\"softmax\")(x)\n",
        "model = keras.Model(inputs=inputs, outputs=outputs)\n",
        "\n",
        "model.summary()"
      ]
    },
    {
      "cell_type": "code",
      "execution_count": 29,
      "metadata": {},
      "outputs": [
        {
          "name": "stdout",
          "output_type": "stream",
          "text": [
            "Epoch 1/25\n",
            "1572/1572 [==============================] - 48s 28ms/step - loss: 0.5707 - accuracy: 0.6790 - val_loss: 0.5402 - val_accuracy: 0.6860\n",
            "Epoch 2/25\n",
            "1572/1572 [==============================] - 48s 31ms/step - loss: 0.5280 - accuracy: 0.7001 - val_loss: 0.5044 - val_accuracy: 0.7162\n",
            "Epoch 3/25\n",
            "1572/1572 [==============================] - 45s 29ms/step - loss: 0.5150 - accuracy: 0.7046 - val_loss: 0.5206 - val_accuracy: 0.7085\n",
            "Epoch 4/25\n",
            "1572/1572 [==============================] - 42s 27ms/step - loss: 0.5084 - accuracy: 0.7132 - val_loss: 0.4964 - val_accuracy: 0.7303\n",
            "Epoch 5/25\n",
            "1572/1572 [==============================] - 41s 26ms/step - loss: 0.5044 - accuracy: 0.7146 - val_loss: 0.4891 - val_accuracy: 0.7292\n",
            "Epoch 6/25\n",
            "1572/1572 [==============================] - 40s 26ms/step - loss: 0.4968 - accuracy: 0.7192 - val_loss: 0.4895 - val_accuracy: 0.7293\n",
            "Epoch 7/25\n",
            "1572/1572 [==============================] - 41s 26ms/step - loss: 0.4974 - accuracy: 0.7196 - val_loss: 0.4868 - val_accuracy: 0.7251\n",
            "Epoch 8/25\n",
            "1572/1572 [==============================] - 42s 26ms/step - loss: 0.4926 - accuracy: 0.7245 - val_loss: 0.4860 - val_accuracy: 0.7262\n",
            "Epoch 9/25\n",
            "1572/1572 [==============================] - 44s 28ms/step - loss: 0.4906 - accuracy: 0.7244 - val_loss: 0.4874 - val_accuracy: 0.7223\n",
            "Training time: 614.6444482803345 seconds\n"
          ]
        }
      ],
      "source": [
        "model.compile(optimizer = \"Adam\", loss = \"sparse_categorical_crossentropy\", metrics = ['accuracy'])\n",
        "callbacks = [keras.callbacks.ModelCheckpoint(\"nflplay_db_02.h5\", save_best_only=True),\n",
        "             keras.callbacks.EarlyStopping(monitor = 'val_accuracy',patience=5),\n",
        "             TimeCallback()]\n",
        "history = model.fit(train_dataset, class_weight = class_weight_dict, epochs = 25, validation_data = valid_dataset, callbacks = callbacks)"
      ]
    },
    {
      "cell_type": "code",
      "execution_count": 33,
      "metadata": {},
      "outputs": [
        {
          "name": "stdout",
          "output_type": "stream",
          "text": [
            "1084/1084 [==============================] - 11s 10ms/step - loss: 0.4829 - accuracy: 0.7244\n"
          ]
        },
        {
          "data": {
            "text/plain": [
              "[0.4828885495662689, 0.7243780493736267]"
            ]
          },
          "execution_count": 33,
          "metadata": {},
          "output_type": "execute_result"
        }
      ],
      "source": [
        "model = keras.models.load_model(\"nflplay_db_02.h5\")\n",
        "model.evaluate(test_dataset)"
      ]
    },
    {
      "cell_type": "code",
      "execution_count": 34,
      "metadata": {},
      "outputs": [
        {
          "name": "stdout",
          "output_type": "stream",
          "text": [
            "1084/1084 [==============================] - 11s 10ms/step\n"
          ]
        },
        {
          "data": {
            "image/png": "[encoded data removed]",
            "text/plain": [
              "<Figure size 1600x1200 with 1 Axes>"
            ]
          },
          "metadata": {},
          "output_type": "display_data"
        }
      ],
      "source": [
        "y_pred = model.predict(test_dataset)\n",
        "y_class_pred = np.argmax(y_pred, axis=-1)\n",
        "y_act = np.concatenate([y for _, y in test_dataset], axis=0)\n",
        "\n",
        "plot_confusion_matrix(y_act, y_class_pred)"
      ]
    },
    {
      "cell_type": "code",
      "execution_count": 35,
      "metadata": {},
      "outputs": [
        {
          "name": "stdout",
          "output_type": "stream",
          "text": [
            "Classification Report\n",
            "              precision    recall  f1-score   support\n",
            "\n",
            "           0       0.85      0.75      0.79     23930\n",
            "           1       0.52      0.67      0.58      9674\n",
            "\n",
            "    accuracy                           0.72     33604\n",
            "   macro avg       0.68      0.71      0.69     33604\n",
            "weighted avg       0.75      0.72      0.73     33604\n",
            "\n",
            "Accuracy Score: 0.7243780502321152\n",
            "Root Mean Square Error: 0.524997095008996\n"
          ]
        }
      ],
      "source": [
        "print_validation_report(y_act, y_class_pred)"
      ]
    },
    {
      "cell_type": "code",
      "execution_count": null,
      "metadata": {},
      "outputs": [],
      "source": []
    }
  ],
  "metadata": {
    "accelerator": "GPU",
    "colab": {
      "gpuType": "T4",
      "provenance": [],
      "toc_visible": true
    },
    "kernelspec": {
      "display_name": "Python 3",
      "name": "python3"
    },
    "language_info": {
      "codemirror_mode": {
        "name": "ipython",
        "version": 3
      },
      "file_extension": ".py",
      "mimetype": "text/x-python",
      "name": "python",
      "nbconvert_exporter": "python",
      "pygments_lexer": "ipython3",
      "version": "3.9.13"
    },
    "orig_nbformat": 4
  },
  "nbformat": 4,
  "nbformat_minor": 0
}
