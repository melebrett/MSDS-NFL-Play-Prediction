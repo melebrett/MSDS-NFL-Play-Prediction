{
  "cells": [
    {
      "cell_type": "markdown",
      "source": [
        "# NFL Play Prediction: Final Model(s)\n",
        "\n",
        "Adding more data with same architectures from last experiment"
      ],
      "metadata": {
        "id": "fRTj_zEeuTZU"
      }
    },
    {
      "cell_type": "code",
      "source": [
        "from google.colab import drive\n",
        "drive.mount('/content/drive')"
      ],
      "metadata": {
        "id": "NabdLii_t6Jm",
        "outputId": "d1bdbf0f-a228-452c-d3d0-9a17527b031b",
        "colab": {
          "base_uri": "https://localhost:8080/"
        }
      },
      "execution_count": 1,
      "outputs": [
        {
          "output_type": "stream",
          "name": "stdout",
          "text": [
            "Mounted at /content/drive\n"
          ]
        }
      ]
    },
    {
      "cell_type": "code",
      "execution_count": 2,
      "metadata": {
        "id": "0rarcUx-t0YG"
      },
      "outputs": [],
      "source": [
        "import datetime\n",
        "from packaging import version\n",
        "from collections import Counter\n",
        "import numpy as np\n",
        "import pandas as pd\n",
        "import time\n",
        "import os\n",
        "import re\n",
        "import string\n",
        "\n",
        "import matplotlib.pyplot as plt\n",
        "import matplotlib as mpl\n",
        "import seaborn as sns\n",
        "\n",
        "import nltk\n",
        "from nltk.corpus import stopwords\n",
        "\n",
        "from sklearn.metrics import confusion_matrix, classification_report\n",
        "from sklearn.preprocessing import StandardScaler, LabelEncoder, MinMaxScaler\n",
        "from sklearn.decomposition import PCA\n",
        "from sklearn.manifold import TSNE\n",
        "from sklearn.ensemble import RandomForestClassifier\n",
        "from sklearn.metrics import mean_squared_error as MSE\n",
        "from sklearn.metrics import accuracy_score\n",
        "\n",
        "import tensorflow as tf\n",
        "from tensorflow import keras\n",
        "from tensorflow.keras import layers\n",
        "import tensorflow.keras.backend as k\n",
        "from tensorflow.keras.callbacks import Callback"
      ]
    },
    {
      "cell_type": "markdown",
      "metadata": {
        "id": "U89aBVrst0YG"
      },
      "source": [
        "## Load Data"
      ]
    },
    {
      "cell_type": "markdown",
      "source": [
        "Data via nflfastR. Variable selection, engineering & encoding are done in associated R script."
      ],
      "metadata": {
        "id": "FcPPc4SlwoiI"
      }
    },
    {
      "cell_type": "code",
      "source": [
        "# filepath = \"data\"\n",
        "filepath = \"/content/drive/MyDrive/MSDS458_AI_and_DL/Assignment-4/data\""
      ],
      "metadata": {
        "id": "YOpx-evZwLU8"
      },
      "execution_count": 3,
      "outputs": []
    },
    {
      "cell_type": "code",
      "execution_count": 4,
      "metadata": {
        "id": "inNXFz5Ot0YH"
      },
      "outputs": [],
      "source": [
        "df_train_full = pd.read_csv(f'{filepath}/nfl_plays_train_update.csv')\n",
        "df_valid_full = pd.read_csv(f'{filepath}/nfl_plays_valid_update.csv')\n",
        "df_test_full = pd.read_csv(f'{filepath}/nfl_plays_test_update.csv')"
      ]
    },
    {
      "cell_type": "markdown",
      "metadata": {
        "id": "JfM-aRS-t0YH"
      },
      "source": [
        "## Helper Functions for Data Prep"
      ]
    },
    {
      "cell_type": "markdown",
      "source": [
        "remove yac with addition of yards_gained"
      ],
      "metadata": {
        "id": "LCP7HhukAv4j"
      }
    },
    {
      "cell_type": "code",
      "execution_count": 5,
      "metadata": {
        "id": "7BmqGR_zt0YI"
      },
      "outputs": [],
      "source": [
        "def prepPlays(df, include_totals = False, include_wp = True, include_ep = True, include_epa_detail = False):\n",
        "    # dropping columns that are not needed\n",
        "    df = df.drop(['season', 'week', 'drive','series', 'surface', 'season_type', 'home_team','away_team', 'spread_line',\n",
        "                   'game_date','play_id', 'desc','two_point_attempt', 'posteam_type','defteam', 'game_half', 'passer_name', 'passer_player_id',\n",
        "                     'quarter_end', 'pass_attempt','rush_attempt','field_goal_attempt', 'punt_attempt', 'half_seconds_remaining', 'drive_play_count', 'pass_deep', 'pass_right', 'pass_left', 'yards_after_catch',\n",
        "                  'pt_run_left_pct', 'pt_run_right_pct', 'pt_rush_wpa_play', 'pt_pass_wpa_play', 'dt_fd_pass_pct',\n",
        "       'dt_sd_pass_pct', 'dt_td_pass_pct', 'dt_gtg_pass_pct',\n",
        "       'dt_neutral_pass_pct', 'dt_scripted_pass_pct', 'dt_pass_pct',\n",
        "       'dt_run_left_pct', 'dt_run_right_pct', 'dt_rush_wpa_play', 'dt_pass_wpa_play',\n",
        "       'pt_sd_pass_pct', 'pt_td_pass_pct', 'pt_gtg_pass_pct', 'qb_dropback', 'qb_spike', 'qb_scramble', 'no_huddle', 'shotgun',\n",
        "                  ], axis = 1)\n",
        "\n",
        "    if include_totals == False:\n",
        "        df = df.drop(['total_away_rush_epa', 'total_home_rush_epa', 'total_away_pass_epa', 'total_home_pass_epa', 'total_away_rush_wpa', 'total_home_rush_wpa', 'total_away_pass_wpa', 'total_home_pass_wpa'], axis=1)\n",
        "    \n",
        "    if include_wp == False:\n",
        "        df = df.drop(['wp'], axis=1)\n",
        "\n",
        "    if include_ep == False:\n",
        "        df = df.drop(['ep'], axis=1)\n",
        "    \n",
        "    if include_epa_detail == False:\n",
        "        df = df.drop(['air_epa', 'yac_epa'], axis=1)\n",
        "\n",
        "    df['drive_time_of_possession'] = df['drive_time_of_possession'].apply(lambda x: int(x.split(':')[0])*60 + int(x.split(':')[1]))\n",
        "    df['roof'] = df['roof'].apply(lambda x: 'closed' if x == 'dome' else 'open' if x == 'outdoors' else x)\n",
        "    df['roof'] = df['roof'].apply(lambda x: 1 if x == 'closed' else 0)\n",
        "    \n",
        "    # df['game_id_posteam'] = df['game_id'] + df['posteam']\n",
        "    # df = df.drop(['game_id', 'posteam'], axis=1, inplace=True)\n",
        "\n",
        "    # sorting the dataframe by game_id, posteam, and play number\n",
        "    df = df.sort_values(by=['game_id', 'posteam', 'pt_play_no'])\n",
        "\n",
        "    return df\n",
        "\n",
        "def encodePlayType(df, play_types):\n",
        "    n_play_types = len(play_types)\n",
        "    df['play_type_encoded'] = df['play_type'].apply(lambda x: play_types.index(x))\n",
        "\n",
        "    return df"
      ]
    },
    {
      "cell_type": "markdown",
      "metadata": {
        "id": "ZAFvZ8Nit0YI"
      },
      "source": [
        "## Helper Functions for Modeling/Post processing"
      ]
    },
    {
      "cell_type": "code",
      "execution_count": 6,
      "metadata": {
        "id": "s3rh1Gtxt0YI"
      },
      "outputs": [],
      "source": [
        "def print_validation_report(test_labels, predictions):\n",
        "    print(\"Classification Report\")\n",
        "    print(classification_report(test_labels, predictions))\n",
        "    print('Accuracy Score: {}'.format(accuracy_score(test_labels, predictions)))\n",
        "    print('Root Mean Square Error: {}'.format(np.sqrt(MSE(test_labels, predictions)))) \n",
        "    \n",
        "def plot_confusion_matrix(y_true, y_pred):\n",
        "    mtx = confusion_matrix(y_true, y_pred)\n",
        "    fig, ax = plt.subplots(figsize=(16,12))\n",
        "    sns.heatmap(mtx, annot=True, fmt='d', linewidths=.75,  cbar=False, ax=ax,cmap='Blues',linecolor='white')\n",
        "    #  square=True,\n",
        "    plt.ylabel('true label')\n",
        "    plt.xlabel('predicted label')\n",
        "\n",
        "def plot_history(history):\n",
        "  losses = history.history['loss']\n",
        "  accs = history.history['accuracy']\n",
        "  val_losses = history.history['val_loss']\n",
        "  val_accs = history.history['val_accuracy']\n",
        "  epochs = len(losses)\n",
        "\n",
        "  plt.figure(figsize=(16, 4))\n",
        "  for i, metrics in enumerate(zip([losses, accs], [val_losses, val_accs], ['Loss', 'Accuracy'])):\n",
        "    plt.subplot(1, 2, i + 1)\n",
        "    plt.plot(range(epochs), metrics[0], label='Training {}'.format(metrics[2]))\n",
        "    plt.plot(range(epochs), metrics[1], label='Validation {}'.format(metrics[2]))\n",
        "    plt.legend()\n",
        "  plt.show()\n",
        "\n",
        "class TimeCallback(Callback):\n",
        "    def on_train_begin(self, logs=None):\n",
        "        self.train_start_time = time.time()\n",
        "\n",
        "    def on_train_end(self, logs=None):\n",
        "        self.train_end_time = time.time()\n",
        "        print(f\"Training time: {self.train_end_time - self.train_start_time} seconds\")"
      ]
    },
    {
      "cell_type": "markdown",
      "metadata": {
        "id": "oxO1pNVOt0YI"
      },
      "source": [
        "## Prep Plays Datasets"
      ]
    },
    {
      "cell_type": "code",
      "execution_count": 7,
      "metadata": {
        "id": "voK4T_SQt0YI"
      },
      "outputs": [],
      "source": [
        "df_train = prepPlays(df_train_full[df_train_full['season'] >= 2020])\n",
        "df_valid = prepPlays(df_valid_full[df_valid_full['season'] >= 2020])\n",
        "df_test = prepPlays(df_test_full[df_test_full['season'] == 2022])"
      ]
    },
    {
      "cell_type": "markdown",
      "metadata": {
        "id": "NEr99DX9t0YJ"
      },
      "source": [
        "check for remaining categorical columns to encode"
      ]
    },
    {
      "cell_type": "code",
      "execution_count": 8,
      "metadata": {
        "id": "ZjXKgTuzt0YJ",
        "outputId": "4e7503a9-6d62-4a79-acd3-8bda8f3203d0",
        "colab": {
          "base_uri": "https://localhost:8080/"
        }
      },
      "outputs": [
        {
          "output_type": "stream",
          "name": "stdout",
          "text": [
            "number of categorical columns:  3\n",
            "number of numeric columns:  46\n",
            "number of total columns:  49\n",
            "categorical columns  ['game_id' 'play_type' 'posteam']\n"
          ]
        }
      ],
      "source": [
        "print(\"number of categorical columns: \", len(df_train.select_dtypes(include=['object']).columns))\n",
        "print(\"number of numeric columns: \", len(df_train.select_dtypes(include=['int64','float64']).columns))\n",
        "print(\"number of total columns: \", len(df_train.select_dtypes(include=['object']).columns) +  len(df_train.select_dtypes(include=['int64','float64']).columns))\n",
        "print(\"categorical columns \",df_train.select_dtypes(include=['object']).columns.values)"
      ]
    },
    {
      "cell_type": "code",
      "source": [
        "df_train.select_dtypes(include  =['int64', 'int32', 'float32', 'float64']).columns"
      ],
      "metadata": {
        "id": "hJzl-2dIxSye",
        "outputId": "47a9b82c-1b91-4381-db92-f69bfe6fc248",
        "colab": {
          "base_uri": "https://localhost:8080/"
        }
      },
      "execution_count": 9,
      "outputs": [
        {
          "output_type": "execute_result",
          "data": {
            "text/plain": [
              "Index(['total_line', 'drive_time_of_possession', 'yardline_100',\n",
              "       'quarter_seconds_remaining', 'game_seconds_remaining', 'qtr',\n",
              "       'drive_start', 'down', 'goal_to_go', 'ydstogo',\n",
              "       'home_timeouts_remaining', 'away_timeouts_remaining',\n",
              "       'score_differential', 'qb_epa', 'roof', 'temp', 'wind', 'penalty',\n",
              "       'penalty_yards', 'timeout', 'qb_hit', 'air_yards', 'first_down',\n",
              "       'yards_gained', 'epa', 'wpa', 'wp', 'ep', 'pt_play_no', 'pt_spread',\n",
              "       'pt_fd_pass_pct', 'pt_neutral_pass_pct', 'pt_scripted_pass_pct',\n",
              "       'pt_pass_pct', 'pt_rush_epa_play', 'pt_pass_epa_play',\n",
              "       'dt_rush_epa_play', 'dt_pass_epa_play', 'pos_team_game_no',\n",
              "       'def_team_game_no', 'qb_pass_attempts', 'qb_pass_epa_play_adj',\n",
              "       'qb_pass_wpa_play_adj', 'pt_penalty', 'pt_timeout', 'pt_home'],\n",
              "      dtype='object')"
            ]
          },
          "metadata": {},
          "execution_count": 9
        }
      ]
    },
    {
      "cell_type": "markdown",
      "metadata": {
        "id": "wf9ffQ8ft0YK"
      },
      "source": [
        "## Encode target variables"
      ]
    },
    {
      "cell_type": "code",
      "source": [
        "df_train['run_direction'] = df_train['play_type'].map({'run_left':'left', 'run_right':'right', 'run_middle':'middle'})\n",
        "df_train['play_type'] = df_train['play_type'].map({'run_left':'run', 'run_right':'run', 'run_middle':'run', 'pass':'pass', 'field_goal':'fg', 'punt':'punt'})\n",
        "\n",
        "df_valid['run_direction'] = df_valid['play_type'].map({'run_left':'left', 'run_right':'right', 'run_middle':'middle'})\n",
        "df_valid['play_type'] = df_valid['play_type'].map({'run_left':'run', 'run_right':'run', 'run_middle':'run', 'pass':'pass', 'field_goal':'fg', 'punt':'punt'})\n",
        "\n",
        "df_test['run_direction'] = df_test['play_type'].map({'run_left':'left', 'run_right':'right', 'run_middle':'middle'})\n",
        "df_test['play_type'] = df_test['play_type'].map({'run_left':'run', 'run_right':'run', 'run_middle':'run', 'pass':'pass', 'field_goal':'fg', 'punt':'punt'})"
      ],
      "metadata": {
        "id": "gmAeYyrL4NFz"
      },
      "execution_count": 10,
      "outputs": []
    },
    {
      "cell_type": "code",
      "execution_count": 11,
      "metadata": {
        "id": "Eu8RUR1nt0YK"
      },
      "outputs": [],
      "source": [
        "label_encoder = LabelEncoder()\n",
        "\n",
        "df_train['play_type_encoded'] = label_encoder.fit_transform(df_train['play_type'])\n",
        "df_valid['play_type_encoded'] = label_encoder.fit_transform(df_valid['play_type'])\n",
        "df_test['play_type_encoded'] = label_encoder.fit_transform(df_test['play_type'])"
      ]
    },
    {
      "cell_type": "code",
      "source": [
        "label_encoder2 = LabelEncoder()\n",
        "\n",
        "df_train['run_direction_encoded'] = label_encoder2.fit_transform(df_train['run_direction'])\n",
        "df_valid['run_direction_encoded'] = label_encoder2.fit_transform(df_valid['run_direction'])\n",
        "df_test['run_direction_encoded'] = label_encoder2.fit_transform(df_test['run_direction'])"
      ],
      "metadata": {
        "id": "OXOjwNCK40W8"
      },
      "execution_count": 12,
      "outputs": []
    },
    {
      "cell_type": "markdown",
      "source": [
        "Check class balance"
      ],
      "metadata": {
        "id": "t6iGgZpkyL9p"
      }
    },
    {
      "cell_type": "code",
      "execution_count": 13,
      "metadata": {
        "id": "UXNQbaQIt0YK",
        "outputId": "5c876d65-207c-43d2-c1c8-0ea7473b15eb",
        "colab": {
          "base_uri": "https://localhost:8080/"
        }
      },
      "outputs": [
        {
          "output_type": "stream",
          "name": "stdout",
          "text": [
            "play_type_encoded  play_type\n",
            "0                  fg            1487\n",
            "1                  pass         30297\n",
            "2                  punt          2931\n",
            "3                  run          19159\n",
            "dtype: int64\n",
            "play_type_encoded  play_type\n",
            "0                  fg             500\n",
            "1                  pass         10436\n",
            "2                  punt          1048\n",
            "3                  run           6538\n",
            "dtype: int64\n",
            "play_type_encoded  play_type\n",
            "0                  fg            1062\n",
            "1                  pass         20210\n",
            "2                  punt          2200\n",
            "3                  run          13442\n",
            "dtype: int64\n"
          ]
        }
      ],
      "source": [
        "print(df_train.groupby(['play_type_encoded', 'play_type']).size())\n",
        "print(df_valid.groupby(['play_type_encoded', 'play_type']).size())\n",
        "print(df_test.groupby(['play_type_encoded', 'play_type']).size())"
      ]
    },
    {
      "cell_type": "code",
      "source": [
        "plt.figure(figsize = (12 ,8))\n",
        "items = [{'Class': x, 'Count': y} for x, y in Counter(df_train['play_type']).items()]\n",
        "distribution = pd.DataFrame(items).sort_values(['Class'])\n",
        "sns.barplot(x=distribution.Class, y=distribution.Count);"
      ],
      "metadata": {
        "colab": {
          "base_uri": "https://localhost:8080/",
          "height": 696
        },
        "id": "aI0OSspl5Ywz",
        "outputId": "9bd38934-019a-401e-aae8-8b09d02dd2da"
      },
      "execution_count": 14,
      "outputs": [
        {
          "output_type": "display_data",
          "data": {
            "text/plain": [
              "<Figure size 1200x800 with 1 Axes>"
            ],
            "image/png": "[encoded data removed]"
          },
          "metadata": {}
        }
      ]
    },
    {
      "cell_type": "code",
      "source": [
        "print(df_train.groupby(['run_direction_encoded', 'play_type']).size())\n",
        "print(df_valid.groupby(['run_direction_encoded', 'play_type']).size())\n",
        "print(df_test.groupby(['run_direction_encoded', 'play_type']).size())"
      ],
      "metadata": {
        "colab": {
          "base_uri": "https://localhost:8080/"
        },
        "id": "08Cb8iAR5kae",
        "outputId": "e48aa4a3-ad7a-4e58-886e-5feae74360d7"
      },
      "execution_count": 15,
      "outputs": [
        {
          "output_type": "stream",
          "name": "stdout",
          "text": [
            "run_direction_encoded  play_type\n",
            "0                      run           7010\n",
            "1                      run           5179\n",
            "2                      run           6970\n",
            "3                      fg            1487\n",
            "                       pass         30297\n",
            "                       punt          2931\n",
            "dtype: int64\n",
            "run_direction_encoded  play_type\n",
            "0                      run           2425\n",
            "1                      run           1737\n",
            "2                      run           2376\n",
            "3                      fg             500\n",
            "                       pass         10436\n",
            "                       punt          1048\n",
            "dtype: int64\n",
            "run_direction_encoded  play_type\n",
            "0                      run           5140\n",
            "1                      run           3443\n",
            "2                      run           4859\n",
            "3                      fg            1062\n",
            "                       pass         20210\n",
            "                       punt          2200\n",
            "dtype: int64\n"
          ]
        }
      ]
    },
    {
      "cell_type": "markdown",
      "metadata": {
        "id": "CgN0Qcr-t0YK"
      },
      "source": [
        "## Scale Numeric Columns"
      ]
    },
    {
      "cell_type": "code",
      "execution_count": 16,
      "metadata": {
        "id": "bsuj5xH8t0YK"
      },
      "outputs": [],
      "source": [
        "scaler = MinMaxScaler()\n",
        "numeric_cols = df_train.select_dtypes(include=['int64','float64']).columns\n",
        "numeric_cols = numeric_cols[numeric_cols != 'pt_play_no']\n",
        "numeric_cols = numeric_cols[numeric_cols != 'play_type_encoded']\n",
        "numeric_cols = numeric_cols[numeric_cols != 'run_direction_encoded']\n",
        "\n",
        "scaler.fit(df_train[numeric_cols])\n",
        "\n",
        "df_train[numeric_cols] = scaler.transform(df_train[numeric_cols])\n",
        "df_valid[numeric_cols] = scaler.transform(df_valid[numeric_cols])\n",
        "df_test[numeric_cols] = scaler.transform(df_test[numeric_cols])"
      ]
    },
    {
      "cell_type": "markdown",
      "metadata": {
        "id": "DngriQ7yt0YK"
      },
      "source": [
        "reordering for display purposes"
      ]
    },
    {
      "cell_type": "code",
      "execution_count": 17,
      "metadata": {
        "id": "orDk9KC6t0YK"
      },
      "outputs": [],
      "source": [
        "colorder = ['game_id', 'posteam', 'pt_play_no', 'play_type', 'play_type_encoded', 'run_direction', 'run_direction_encoded']\n",
        "colorder = colorder + [col for col in df_train.columns if col not in colorder]\n",
        "df_train = df_train[colorder]\n",
        "df_valid = df_valid[colorder]\n",
        "df_test = df_test[colorder]"
      ]
    },
    {
      "cell_type": "markdown",
      "metadata": {
        "id": "_7wyIeZht0YL"
      },
      "source": [
        "## Slice and restructure data"
      ]
    },
    {
      "cell_type": "markdown",
      "metadata": {
        "id": "nMhN8fMet0YL"
      },
      "source": [
        "Select columns and create lists grouped by posteam game. Structure is ***(posteam_games X plays_in_game X features)***"
      ]
    },
    {
      "cell_type": "code",
      "execution_count": 18,
      "metadata": {
        "id": "z4n5Mje3t0YL"
      },
      "outputs": [],
      "source": [
        "# convert to sequences of plays for each posteam/game\n",
        "X_train = df_train.drop(['pt_play_no', 'play_type', 'play_type_encoded', 'run_direction', 'run_direction_encoded'],axis = 1).groupby(['game_id', 'posteam']).apply(lambda x: x.values.tolist()).tolist()\n",
        "Y_train = df_train[['game_id','posteam', 'play_type_encoded']].groupby(['game_id', 'posteam']).apply(lambda x: x.values.tolist()).tolist()\n",
        "\n",
        "X_valid = df_valid.drop(['pt_play_no', 'play_type', 'play_type_encoded', 'run_direction', 'run_direction_encoded'],axis = 1).groupby(['game_id', 'posteam']).apply(lambda x: x.values.tolist()).tolist()\n",
        "Y_valid = df_valid[['game_id','posteam', 'play_type_encoded']].groupby(['game_id', 'posteam']).apply(lambda x: x.values.tolist()).tolist()\n",
        "\n",
        "X_test = df_test.drop(['pt_play_no', 'play_type', 'play_type_encoded', 'run_direction', 'run_direction_encoded'],axis = 1).groupby(['game_id', 'posteam']).apply(lambda x: x.values.tolist()).tolist()\n",
        "Y_test = df_test[['game_id','posteam', 'play_type_encoded']].groupby(['game_id', 'posteam']).apply(lambda x: x.values.tolist()).tolist()"
      ]
    },
    {
      "cell_type": "code",
      "execution_count": 19,
      "metadata": {
        "id": "7sRh9EWHt0YL"
      },
      "outputs": [],
      "source": [
        "# remove the identifier columns for each dataset\n",
        "for i in range(len(X_train)):\n",
        "    for j in range(len(X_train[i])):\n",
        "        X_train[i][j] = X_train[i][j][2:]\n",
        "\n",
        "for i in range(len(Y_train)):\n",
        "    for j in range(len(Y_train[i])):\n",
        "        Y_train[i][j] = Y_train[i][j][2:]\n",
        "\n",
        "for i in range(len(X_valid)):\n",
        "    for j in range(len(X_valid[i])):\n",
        "        X_valid[i][j] = X_valid[i][j][2:]\n",
        "\n",
        "for i in range(len(Y_valid)):\n",
        "    for j in range(len(Y_valid[i])):\n",
        "        Y_valid[i][j] = Y_valid[i][j][2:]\n",
        "\n",
        "for i in range(len(X_test)):\n",
        "    for j in range(len(X_test[i])):\n",
        "        X_test[i][j] = X_test[i][j][2:]\n",
        "\n",
        "for i in range(len(Y_test)):\n",
        "    for j in range(len(Y_test[i])):\n",
        "        Y_test[i][j] = Y_test[i][j][2:]"
      ]
    },
    {
      "cell_type": "code",
      "execution_count": 20,
      "metadata": {
        "id": "EKpeA40st0YL",
        "outputId": "74cb4e2a-ada0-410a-bc04-76931bcf0bd3",
        "colab": {
          "base_uri": "https://localhost:8080/"
        }
      },
      "outputs": [
        {
          "output_type": "stream",
          "name": "stdout",
          "text": [
            "X dims\n",
            "number of games:  786\n",
            "min number of plays per game:  45\n",
            "average number of plays per game:  68.54198473282443\n",
            "maximum number of plays per game: 102\n",
            "total number of plays:  53874\n",
            "number of features:  45\n",
            "\n",
            "Y dims\n",
            "number of games:  786\n",
            "min number of plays per game:  45\n",
            "average number of plays per game:  68.54198473282443\n",
            "maximum number of plays per game: 102\n",
            "total number of plays:  53874\n",
            "number of features:  1\n"
          ]
        }
      ],
      "source": [
        "def print_dimensions(nested_list):\n",
        "    if isinstance(nested_list, list):\n",
        "        print(\"number of games: \", len(nested_list))\n",
        "        play_count = 0\n",
        "        play_list = []\n",
        "        for i in nested_list:\n",
        "            plays = len(i)\n",
        "            play_count += plays\n",
        "            play_list.append(plays)\n",
        "        print(\"min number of plays per game: \", np.min(play_list))\n",
        "        print(\"average number of plays per game: \", np.mean(play_list))\n",
        "        print(\"maximum number of plays per game:\", np.max(play_list))\n",
        "        print(\"total number of plays: \", play_count)\n",
        "        print(\"number of features: \", len(nested_list[0][0]))\n",
        "    else:\n",
        "        print()\n",
        "        \n",
        "print(\"X dims\")\n",
        "print_dimensions(X_train)\n",
        "print(\"\")\n",
        "print(\"Y dims\")\n",
        "print_dimensions(Y_train)"
      ]
    },
    {
      "cell_type": "code",
      "source": [
        "# validation\n",
        "print(\"X dims\")\n",
        "print_dimensions(X_valid)\n",
        "print(\"\")\n",
        "print(\"Y dims\")\n",
        "print_dimensions(Y_valid)"
      ],
      "metadata": {
        "id": "a7uo1S4O1MVh",
        "outputId": "3e467b48-8049-4667-ede1-d0c62683145b",
        "colab": {
          "base_uri": "https://localhost:8080/"
        }
      },
      "execution_count": 21,
      "outputs": [
        {
          "output_type": "stream",
          "name": "stdout",
          "text": [
            "X dims\n",
            "number of games:  270\n",
            "min number of plays per game:  48\n",
            "average number of plays per game:  68.6\n",
            "maximum number of plays per game: 99\n",
            "total number of plays:  18522\n",
            "number of features:  45\n",
            "\n",
            "Y dims\n",
            "number of games:  270\n",
            "min number of plays per game:  48\n",
            "average number of plays per game:  68.6\n",
            "maximum number of plays per game: 99\n",
            "total number of plays:  18522\n",
            "number of features:  1\n"
          ]
        }
      ]
    },
    {
      "cell_type": "code",
      "source": [
        "# validation\n",
        "print(\"X dims\")\n",
        "print_dimensions(X_test)\n",
        "print(\"\")\n",
        "print(\"Y dims\")\n",
        "print_dimensions(Y_test)"
      ],
      "metadata": {
        "id": "ekBRKzad1YH7",
        "outputId": "5b5ea890-24d8-45ad-81db-a21b1e23f2f8",
        "colab": {
          "base_uri": "https://localhost:8080/"
        }
      },
      "execution_count": 22,
      "outputs": [
        {
          "output_type": "stream",
          "name": "stdout",
          "text": [
            "X dims\n",
            "number of games:  542\n",
            "min number of plays per game:  44\n",
            "average number of plays per game:  68.1070110701107\n",
            "maximum number of plays per game: 100\n",
            "total number of plays:  36914\n",
            "number of features:  45\n",
            "\n",
            "Y dims\n",
            "number of games:  542\n",
            "min number of plays per game:  44\n",
            "average number of plays per game:  68.1070110701107\n",
            "maximum number of plays per game: 100\n",
            "total number of plays:  36914\n",
            "number of features:  1\n"
          ]
        }
      ]
    },
    {
      "cell_type": "markdown",
      "metadata": {
        "id": "RH7u2Esnt0YM"
      },
      "source": [
        "## Create timeseries datasets"
      ]
    },
    {
      "cell_type": "markdown",
      "metadata": {
        "id": "6CpwoRcft0YM"
      },
      "source": [
        "pad sequences"
      ]
    },
    {
      "cell_type": "code",
      "execution_count": 23,
      "metadata": {
        "id": "r1sPD-CXt0YM"
      },
      "outputs": [],
      "source": [
        "# pad sequences to max length\n",
        "def padSequence(x_sequence, y_sequence, max_length = 105):\n",
        "    X_padded = []\n",
        "    Y_padded = []\n",
        "    for i in range(len(x_sequence)):\n",
        "        padded = np.pad(x_sequence[i], ((max_length-np.array(x_sequence[i]).shape[0],0), (0,0)), 'constant')\n",
        "        X_padded.append(padded)\n",
        "    for i in range(len(y_sequence)):\n",
        "        padded = np.pad(y_sequence[i], ((max_length-np.array(y_sequence[i]).shape[0],0), (0,0)), 'constant')\n",
        "        Y_padded.append(padded)\n",
        "    return np.array(X_padded), np.array(Y_padded)\n",
        "\n",
        "\n",
        "max_length = 102\n",
        "X_train_padded, Y_train_padded = padSequence(X_train, Y_train, max_length)\n",
        "X_valid_padded, Y_valid_padded = padSequence(X_valid, Y_valid, max_length)\n",
        "X_test_padded, Y_test_padded = padSequence(X_test, Y_test, max_length)"
      ]
    },
    {
      "cell_type": "markdown",
      "metadata": {
        "id": "TS74yC-xt0YM"
      },
      "source": [
        "Using the timeseries_dataset_from_array utility, but want to ensure that sequences are only created within the same game, and not overlapping games. Here, we loop through the games and create windowed sequences of a specified length for each game. For each game there will be one dataset object, which we then have to concatenate using the concatenate Dataset method."
      ]
    },
    {
      "cell_type": "markdown",
      "source": [
        "Trying to get entire game processed as one batch"
      ],
      "metadata": {
        "id": "7Pc35CbxHJFM"
      }
    },
    {
      "cell_type": "code",
      "source": [
        "101 - 15 + 1"
      ],
      "metadata": {
        "colab": {
          "base_uri": "https://localhost:8080/"
        },
        "id": "KKO4vgUObLP4",
        "outputId": "7a619f77-b57f-459a-d180-21901d1449bc"
      },
      "execution_count": 24,
      "outputs": [
        {
          "output_type": "execute_result",
          "data": {
            "text/plain": [
              "87"
            ]
          },
          "metadata": {},
          "execution_count": 24
        }
      ]
    },
    {
      "cell_type": "code",
      "execution_count": 25,
      "metadata": {
        "id": "HByaIS5Et0YN"
      },
      "outputs": [],
      "source": [
        "sequence_length = 15\n",
        "batch_size = 87\n",
        "n_feats = len(X_train[0][0])\n",
        "delay = sequence_length + 1 - 1\n",
        "train_datasets = []\n",
        "valid_datasets = []\n",
        "test_datasets = []\n",
        "for i in range(len(X_train)):\n",
        "    dataset = tf.keras.utils.timeseries_dataset_from_array(\n",
        "        X_train_padded[i][:-delay],\n",
        "        targets = np.ravel(Y_train_padded[i][delay:]),\n",
        "        sequence_length = sequence_length,\n",
        "        batch_size=batch_size\n",
        "    )\n",
        "    train_datasets.append(dataset)\n",
        "\n",
        "train_dataset = train_datasets[0]\n",
        "for i in range(1, len(train_datasets)):\n",
        "    train_dataset = train_dataset.concatenate(train_datasets[i])\n",
        "\n",
        "for i in range(len(X_valid_padded)):\n",
        "    dataset = tf.keras.utils.timeseries_dataset_from_array(\n",
        "        X_valid_padded[i][:-delay],\n",
        "        targets = np.ravel(Y_valid_padded[i][delay:]),\n",
        "        sequence_length = sequence_length,\n",
        "        batch_size=batch_size\n",
        "    )\n",
        "    valid_datasets.append(dataset)\n",
        "\n",
        "valid_dataset = valid_datasets[0]\n",
        "for i in range(1, len(valid_datasets)):\n",
        "    valid_dataset = valid_dataset.concatenate(valid_datasets[i])\n",
        "\n",
        "for i in range(len(X_test_padded)):\n",
        "    dataset = tf.keras.utils.timeseries_dataset_from_array(\n",
        "        X_test_padded[i][:-delay],\n",
        "        targets = np.ravel(Y_test_padded[i][delay:]),\n",
        "        sequence_length = sequence_length,\n",
        "        batch_size=batch_size\n",
        "    )\n",
        "    test_datasets.append(dataset)\n",
        "\n",
        "test_dataset = test_datasets[0]\n",
        "for i in range(1, len(test_datasets)):\n",
        "    test_dataset = test_dataset.concatenate(test_datasets[i])"
      ]
    },
    {
      "cell_type": "markdown",
      "metadata": {
        "id": "GOpTn5mIt0YZ"
      },
      "source": [
        "check the dimensions of the data within the train_dataset"
      ]
    },
    {
      "cell_type": "code",
      "execution_count": 26,
      "metadata": {
        "id": "7pDTV4oKt0YZ"
      },
      "outputs": [],
      "source": [
        "# for element in train_dataset:\n",
        "#     # print(element[0])\n",
        "#     print(\"features\")\n",
        "#     print(element[0].shape)\n",
        "#     # print(element[1])\n",
        "#     print(\"targets\")\n",
        "#     print(element[1].shape)\n",
        "#     break"
      ]
    },
    {
      "cell_type": "markdown",
      "metadata": {
        "id": "PM5cav_lt0Ya"
      },
      "source": [
        "## Build Models"
      ]
    },
    {
      "cell_type": "markdown",
      "source": [
        "### Final Model 1"
      ],
      "metadata": {
        "id": "vqd0KZnPt932"
      }
    },
    {
      "cell_type": "code",
      "source": [
        "keras.backend.clear_session()\n",
        "\n",
        "inputs = keras.Input(shape=(sequence_length, n_feats))\n",
        "x = keras.layers.Masking(mask_value=0)(inputs)\n",
        "x = keras.layers.LSTM(38, recurrent_dropout = 0.1, return_sequences = False)(x)\n",
        "x = keras.layers.Dropout(0.3)(x)\n",
        "outputs = keras.layers.Dense(4, activation=\"softmax\")(x)\n",
        "model = keras.Model(inputs=inputs, outputs=outputs)\n",
        "\n",
        "model.summary()"
      ],
      "metadata": {
        "colab": {
          "base_uri": "https://localhost:8080/"
        },
        "id": "WQ4dVERnzQlj",
        "outputId": "5a87e0ad-d68f-46dc-d582-122163835032"
      },
      "execution_count": 28,
      "outputs": [
        {
          "output_type": "stream",
          "name": "stderr",
          "text": [
            "WARNING:tensorflow:Layer lstm will not use cuDNN kernels since it doesn't meet the criteria. It will use a generic GPU kernel as fallback when running on GPU.\n"
          ]
        },
        {
          "output_type": "stream",
          "name": "stdout",
          "text": [
            "Model: \"model\"\n",
            "_________________________________________________________________\n",
            " Layer (type)                Output Shape              Param #   \n",
            "=================================================================\n",
            " input_1 (InputLayer)        [(None, 15, 45)]          0         \n",
            "                                                                 \n",
            " masking (Masking)           (None, 15, 45)            0         \n",
            "                                                                 \n",
            " lstm (LSTM)                 (None, 38)                12768     \n",
            "                                                                 \n",
            " dropout (Dropout)           (None, 38)                0         \n",
            "                                                                 \n",
            " dense (Dense)               (None, 4)                 156       \n",
            "                                                                 \n",
            "=================================================================\n",
            "Total params: 12,924\n",
            "Trainable params: 12,924\n",
            "Non-trainable params: 0\n",
            "_________________________________________________________________\n"
          ]
        }
      ]
    },
    {
      "cell_type": "code",
      "source": [
        "model.compile(optimizer = \"Adam\", loss = \"sparse_categorical_crossentropy\", metrics = ['accuracy'])\n",
        "callbacks = [keras.callbacks.ModelCheckpoint(\"nflplay_final_01.h5\", save_best_only=True),\n",
        "             keras.callbacks.EarlyStopping(monitor = 'val_accuracy',patience=5),\n",
        "             TimeCallback()]\n",
        "history = model.fit(train_dataset, epochs = 25, validation_data = valid_dataset, callbacks = callbacks)"
      ],
      "metadata": {
        "colab": {
          "base_uri": "https://localhost:8080/"
        },
        "id": "BgDKBEZxCYZy",
        "outputId": "67fc008d-44f4-4b56-d242-3917fda1d4f0"
      },
      "execution_count": 29,
      "outputs": [
        {
          "output_type": "stream",
          "name": "stdout",
          "text": [
            "Epoch 1/25\n",
            "786/786 [==============================] - 141s 170ms/step - loss: 0.9371 - accuracy: 0.6557 - val_loss: 0.7584 - val_accuracy: 0.6922\n",
            "Epoch 2/25\n",
            "786/786 [==============================] - 100s 127ms/step - loss: 0.6922 - accuracy: 0.6996 - val_loss: 0.6229 - val_accuracy: 0.7191\n",
            "Epoch 3/25\n",
            "786/786 [==============================] - 101s 129ms/step - loss: 0.6169 - accuracy: 0.7104 - val_loss: 0.5825 - val_accuracy: 0.7239\n",
            "Epoch 4/25\n",
            "786/786 [==============================] - 100s 127ms/step - loss: 0.5865 - accuracy: 0.7142 - val_loss: 0.5593 - val_accuracy: 0.7293\n",
            "Epoch 5/25\n",
            "786/786 [==============================] - 99s 125ms/step - loss: 0.5709 - accuracy: 0.7185 - val_loss: 0.5496 - val_accuracy: 0.7296\n",
            "Epoch 6/25\n",
            "786/786 [==============================] - 98s 125ms/step - loss: 0.5592 - accuracy: 0.7199 - val_loss: 0.5405 - val_accuracy: 0.7330\n",
            "Epoch 7/25\n",
            "786/786 [==============================] - 99s 126ms/step - loss: 0.5529 - accuracy: 0.7216 - val_loss: 0.5398 - val_accuracy: 0.7319\n",
            "Epoch 8/25\n",
            "786/786 [==============================] - 104s 132ms/step - loss: 0.5511 - accuracy: 0.7213 - val_loss: 0.5384 - val_accuracy: 0.7311\n",
            "Epoch 9/25\n",
            "786/786 [==============================] - 101s 128ms/step - loss: 0.5492 - accuracy: 0.7231 - val_loss: 0.5355 - val_accuracy: 0.7330\n",
            "Epoch 10/25\n",
            "786/786 [==============================] - 100s 128ms/step - loss: 0.5469 - accuracy: 0.7233 - val_loss: 0.5336 - val_accuracy: 0.7337\n",
            "Epoch 11/25\n",
            "786/786 [==============================] - 101s 129ms/step - loss: 0.5443 - accuracy: 0.7248 - val_loss: 0.5333 - val_accuracy: 0.7344\n",
            "Epoch 12/25\n",
            "786/786 [==============================] - 101s 129ms/step - loss: 0.5435 - accuracy: 0.7242 - val_loss: 0.5310 - val_accuracy: 0.7353\n",
            "Epoch 13/25\n",
            "786/786 [==============================] - 110s 140ms/step - loss: 0.5404 - accuracy: 0.7264 - val_loss: 0.5307 - val_accuracy: 0.7347\n",
            "Epoch 14/25\n",
            "786/786 [==============================] - 101s 129ms/step - loss: 0.5394 - accuracy: 0.7267 - val_loss: 0.5299 - val_accuracy: 0.7361\n",
            "Epoch 15/25\n",
            "786/786 [==============================] - 99s 126ms/step - loss: 0.5378 - accuracy: 0.7277 - val_loss: 0.5299 - val_accuracy: 0.7348\n",
            "Epoch 16/25\n",
            "786/786 [==============================] - 100s 127ms/step - loss: 0.5374 - accuracy: 0.7283 - val_loss: 0.5302 - val_accuracy: 0.7350\n",
            "Epoch 17/25\n",
            "786/786 [==============================] - 102s 130ms/step - loss: 0.5347 - accuracy: 0.7287 - val_loss: 0.5288 - val_accuracy: 0.7342\n",
            "Epoch 18/25\n",
            "786/786 [==============================] - 112s 143ms/step - loss: 0.5351 - accuracy: 0.7292 - val_loss: 0.5287 - val_accuracy: 0.7341\n",
            "Epoch 19/25\n",
            "786/786 [==============================] - 121s 154ms/step - loss: 0.5330 - accuracy: 0.7296 - val_loss: 0.5249 - val_accuracy: 0.7365\n",
            "Epoch 20/25\n",
            "786/786 [==============================] - 99s 126ms/step - loss: 0.5320 - accuracy: 0.7304 - val_loss: 0.5255 - val_accuracy: 0.7365\n",
            "Epoch 21/25\n",
            "786/786 [==============================] - 98s 125ms/step - loss: 0.5308 - accuracy: 0.7314 - val_loss: 0.5273 - val_accuracy: 0.7370\n",
            "Epoch 22/25\n",
            "786/786 [==============================] - 100s 127ms/step - loss: 0.5308 - accuracy: 0.7316 - val_loss: 0.5249 - val_accuracy: 0.7373\n",
            "Epoch 23/25\n",
            "786/786 [==============================] - 100s 127ms/step - loss: 0.5289 - accuracy: 0.7328 - val_loss: 0.5248 - val_accuracy: 0.7376\n",
            "Epoch 24/25\n",
            "786/786 [==============================] - 99s 126ms/step - loss: 0.5274 - accuracy: 0.7333 - val_loss: 0.5245 - val_accuracy: 0.7377\n",
            "Epoch 25/25\n",
            "786/786 [==============================] - 98s 125ms/step - loss: 0.5272 - accuracy: 0.7334 - val_loss: 0.5221 - val_accuracy: 0.7415\n",
            "Training time: 3016.277104616165 seconds\n"
          ]
        }
      ]
    },
    {
      "cell_type": "code",
      "source": [
        "plot_history(history)"
      ],
      "metadata": {
        "colab": {
          "base_uri": "https://localhost:8080/",
          "height": 368
        },
        "id": "V5HCpqnaCbcO",
        "outputId": "68d89136-a582-4aa5-ff30-7913ccab6903"
      },
      "execution_count": 30,
      "outputs": [
        {
          "output_type": "display_data",
          "data": {
            "text/plain": [
              "<Figure size 1600x400 with 2 Axes>"
            ],
            "image/png": "[encoded data removed]"
          },
          "metadata": {}
        }
      ]
    },
    {
      "cell_type": "code",
      "source": [
        "model = keras.models.load_model(\"nflplay_final_01.h5\")\n",
        "model.evaluate(test_dataset)"
      ],
      "metadata": {
        "colab": {
          "base_uri": "https://localhost:8080/"
        },
        "id": "rDtaCK9L3LgL",
        "outputId": "b3603302-e548-4e98-b8ba-467ae6788bed"
      },
      "execution_count": 31,
      "outputs": [
        {
          "output_type": "stream",
          "name": "stderr",
          "text": [
            "WARNING:tensorflow:Layer lstm will not use cuDNN kernels since it doesn't meet the criteria. It will use a generic GPU kernel as fallback when running on GPU.\n"
          ]
        },
        {
          "output_type": "stream",
          "name": "stdout",
          "text": [
            "542/542 [==============================] - 101s 39ms/step - loss: 0.5135 - accuracy: 0.7408\n"
          ]
        },
        {
          "output_type": "execute_result",
          "data": {
            "text/plain": [
              "[0.5135248899459839, 0.7407622933387756]"
            ]
          },
          "metadata": {},
          "execution_count": 31
        }
      ]
    },
    {
      "cell_type": "code",
      "source": [
        "y_pred = model.predict(test_dataset)\n",
        "y_class_pred = np.argmax(y_pred, axis=-1)\n",
        "y_act = np.concatenate([y for x, y in test_dataset], axis=0)\n",
        "\n",
        "plot_confusion_matrix(y_act, y_class_pred)"
      ],
      "metadata": {
        "colab": {
          "base_uri": "https://localhost:8080/",
          "height": 1000
        },
        "id": "v40OmokX3NB-",
        "outputId": "6b570848-63f9-4e71-84a6-8f4f176fb128"
      },
      "execution_count": 32,
      "outputs": [
        {
          "output_type": "stream",
          "name": "stdout",
          "text": [
            "542/542 [==============================] - 22s 41ms/step\n"
          ]
        },
        {
          "output_type": "display_data",
          "data": {
            "text/plain": [
              "<Figure size 1600x1200 with 1 Axes>"
            ],
            "image/png": "[encoded data removed]"
          },
          "metadata": {}
        }
      ]
    },
    {
      "cell_type": "code",
      "source": [
        "print_validation_report(y_act, y_class_pred)"
      ],
      "metadata": {
        "colab": {
          "base_uri": "https://localhost:8080/"
        },
        "id": "3PuF6T-AtY1k",
        "outputId": "9f3b4ae6-e887-4927-c67e-4106318ba299"
      },
      "execution_count": 33,
      "outputs": [
        {
          "output_type": "stream",
          "name": "stdout",
          "text": [
            "Classification Report\n",
            "              precision    recall  f1-score   support\n",
            "\n",
            "           0       0.94      0.99      0.96     11115\n",
            "           1       0.69      0.73      0.70     15988\n",
            "           2       0.87      0.96      0.91      1762\n",
            "           3       0.56      0.47      0.51     10701\n",
            "\n",
            "    accuracy                           0.74     39566\n",
            "   macro avg       0.76      0.79      0.77     39566\n",
            "weighted avg       0.73      0.74      0.73     39566\n",
            "\n",
            "Accuracy Score: 0.740762270636405\n",
            "Root Mean Square Error: 1.014727520349686\n"
          ]
        }
      ]
    },
    {
      "cell_type": "markdown",
      "source": [
        "### Final Model 2"
      ],
      "metadata": {
        "id": "tMfZ0GciIy52"
      }
    },
    {
      "cell_type": "code",
      "source": [
        "keras.backend.clear_session()\n",
        "\n",
        "inputs = keras.Input(shape=(sequence_length, n_feats))\n",
        "x = keras.layers.Masking(mask_value=0)(inputs)\n",
        "x = keras.layers.Bidirectional(keras.layers.LSTM(38, recurrent_dropout = 0.2, return_sequences = False))(x)\n",
        "x = keras.layers.Dropout(0.3)(x)\n",
        "outputs = keras.layers.Dense(4, activation=\"softmax\")(x)\n",
        "model = keras.Model(inputs=inputs, outputs=outputs)\n",
        "\n",
        "model.summary()"
      ],
      "metadata": {
        "colab": {
          "base_uri": "https://localhost:8080/"
        },
        "id": "F7zlF7hHI1eN",
        "outputId": "6c462353-7654-4d99-d812-d389e9e3d5d2"
      },
      "execution_count": 27,
      "outputs": [
        {
          "output_type": "stream",
          "name": "stdout",
          "text": [
            "Model: \"model\"\n",
            "_________________________________________________________________\n",
            " Layer (type)                Output Shape              Param #   \n",
            "=================================================================\n",
            " input_1 (InputLayer)        [(None, 15, 45)]          0         \n",
            "                                                                 \n",
            " masking (Masking)           (None, 15, 45)            0         \n",
            "                                                                 \n",
            " bidirectional (Bidirectiona  (None, 76)               25536     \n",
            " l)                                                              \n",
            "                                                                 \n",
            " dropout (Dropout)           (None, 76)                0         \n",
            "                                                                 \n",
            " dense (Dense)               (None, 4)                 308       \n",
            "                                                                 \n",
            "=================================================================\n",
            "Total params: 25,844\n",
            "Trainable params: 25,844\n",
            "Non-trainable params: 0\n",
            "_________________________________________________________________\n"
          ]
        }
      ]
    },
    {
      "cell_type": "code",
      "source": [
        "model.compile(optimizer = \"Adam\", loss = \"sparse_categorical_crossentropy\", metrics = ['accuracy'])\n",
        "callbacks = [keras.callbacks.ModelCheckpoint(\"nflplay_final_02.h5\", save_best_only=True),\n",
        "             keras.callbacks.EarlyStopping(monitor = 'val_accuracy',patience=5),\n",
        "             TimeCallback()]\n",
        "history = model.fit(train_dataset, epochs = 25, validation_data = valid_dataset, callbacks = callbacks)"
      ],
      "metadata": {
        "colab": {
          "base_uri": "https://localhost:8080/"
        },
        "id": "NHQ9y4xWJDw7",
        "outputId": "f9744d92-c1a3-448a-a377-f163e214c9a4"
      },
      "execution_count": 28,
      "outputs": [
        {
          "output_type": "stream",
          "name": "stdout",
          "text": [
            "Epoch 1/25\n",
            "786/786 [==============================] - 127s 151ms/step - loss: 0.9355 - accuracy: 0.6572 - val_loss: 0.7546 - val_accuracy: 0.6987\n",
            "Epoch 2/25\n",
            "786/786 [==============================] - 74s 95ms/step - loss: 0.6932 - accuracy: 0.6970 - val_loss: 0.6185 - val_accuracy: 0.7239\n",
            "Epoch 3/25\n",
            "786/786 [==============================] - 82s 104ms/step - loss: 0.6148 - accuracy: 0.7105 - val_loss: 0.5748 - val_accuracy: 0.7298\n",
            "Epoch 4/25\n",
            "786/786 [==============================] - 75s 96ms/step - loss: 0.5829 - accuracy: 0.7168 - val_loss: 0.5561 - val_accuracy: 0.7323\n",
            "Epoch 5/25\n",
            "786/786 [==============================] - 73s 92ms/step - loss: 0.5671 - accuracy: 0.7194 - val_loss: 0.5457 - val_accuracy: 0.7328\n",
            "Epoch 6/25\n",
            "786/786 [==============================] - 73s 93ms/step - loss: 0.5571 - accuracy: 0.7215 - val_loss: 0.5397 - val_accuracy: 0.7340\n",
            "Epoch 7/25\n",
            "786/786 [==============================] - 85s 109ms/step - loss: 0.5516 - accuracy: 0.7223 - val_loss: 0.5355 - val_accuracy: 0.7341\n",
            "Epoch 8/25\n",
            "786/786 [==============================] - 86s 109ms/step - loss: 0.5476 - accuracy: 0.7247 - val_loss: 0.5328 - val_accuracy: 0.7366\n",
            "Epoch 9/25\n",
            "786/786 [==============================] - 84s 106ms/step - loss: 0.5444 - accuracy: 0.7259 - val_loss: 0.5318 - val_accuracy: 0.7363\n",
            "Epoch 10/25\n",
            "786/786 [==============================] - 82s 105ms/step - loss: 0.5427 - accuracy: 0.7249 - val_loss: 0.5305 - val_accuracy: 0.7371\n",
            "Epoch 11/25\n",
            "786/786 [==============================] - 86s 109ms/step - loss: 0.5411 - accuracy: 0.7261 - val_loss: 0.5296 - val_accuracy: 0.7378\n",
            "Epoch 12/25\n",
            "786/786 [==============================] - 85s 108ms/step - loss: 0.5391 - accuracy: 0.7280 - val_loss: 0.5274 - val_accuracy: 0.7389\n",
            "Epoch 13/25\n",
            "786/786 [==============================] - 82s 104ms/step - loss: 0.5374 - accuracy: 0.7298 - val_loss: 0.5270 - val_accuracy: 0.7377\n",
            "Epoch 14/25\n",
            "786/786 [==============================] - 83s 106ms/step - loss: 0.5361 - accuracy: 0.7285 - val_loss: 0.5263 - val_accuracy: 0.7388\n",
            "Epoch 15/25\n",
            "786/786 [==============================] - 84s 107ms/step - loss: 0.5352 - accuracy: 0.7294 - val_loss: 0.5254 - val_accuracy: 0.7401\n",
            "Epoch 16/25\n",
            "786/786 [==============================] - 74s 94ms/step - loss: 0.5340 - accuracy: 0.7290 - val_loss: 0.5262 - val_accuracy: 0.7383\n",
            "Epoch 17/25\n",
            "786/786 [==============================] - 83s 106ms/step - loss: 0.5321 - accuracy: 0.7321 - val_loss: 0.5244 - val_accuracy: 0.7389\n",
            "Epoch 18/25\n",
            "786/786 [==============================] - 84s 107ms/step - loss: 0.5315 - accuracy: 0.7309 - val_loss: 0.5237 - val_accuracy: 0.7388\n",
            "Epoch 19/25\n",
            "786/786 [==============================] - 84s 106ms/step - loss: 0.5303 - accuracy: 0.7312 - val_loss: 0.5235 - val_accuracy: 0.7408\n",
            "Epoch 20/25\n",
            "786/786 [==============================] - 85s 108ms/step - loss: 0.5286 - accuracy: 0.7326 - val_loss: 0.5229 - val_accuracy: 0.7392\n",
            "Epoch 21/25\n",
            "786/786 [==============================] - 83s 105ms/step - loss: 0.5276 - accuracy: 0.7332 - val_loss: 0.5228 - val_accuracy: 0.7391\n",
            "Epoch 22/25\n",
            "786/786 [==============================] - 72s 92ms/step - loss: 0.5269 - accuracy: 0.7345 - val_loss: 0.5218 - val_accuracy: 0.7397\n",
            "Epoch 23/25\n",
            "786/786 [==============================] - 84s 106ms/step - loss: 0.5267 - accuracy: 0.7355 - val_loss: 0.5231 - val_accuracy: 0.7389\n",
            "Epoch 24/25\n",
            "786/786 [==============================] - 84s 106ms/step - loss: 0.5256 - accuracy: 0.7348 - val_loss: 0.5202 - val_accuracy: 0.7426\n",
            "Epoch 25/25\n",
            "786/786 [==============================] - 73s 93ms/step - loss: 0.5250 - accuracy: 0.7340 - val_loss: 0.5202 - val_accuracy: 0.7425\n",
            "Training time: 2829.448333263397 seconds\n"
          ]
        }
      ]
    },
    {
      "cell_type": "code",
      "source": [
        "plot_history(history)"
      ],
      "metadata": {
        "colab": {
          "base_uri": "https://localhost:8080/",
          "height": 368
        },
        "id": "QVnyZHZmJJdF",
        "outputId": "41f62ff4-c4da-4bdd-f183-489c1f0fcc01"
      },
      "execution_count": 29,
      "outputs": [
        {
          "output_type": "display_data",
          "data": {
            "text/plain": [
              "<Figure size 1600x400 with 2 Axes>"
            ],
            "image/png": "[encoded data removed]"
          },
          "metadata": {}
        }
      ]
    },
    {
      "cell_type": "code",
      "source": [
        "model = keras.models.load_model(\"nflplay_final_02.h5\")\n",
        "model.evaluate(test_dataset)"
      ],
      "metadata": {
        "colab": {
          "base_uri": "https://localhost:8080/"
        },
        "id": "g3rrGj9XJKOP",
        "outputId": "a5f78013-3075-4c57-da75-1d41b2b09935"
      },
      "execution_count": 30,
      "outputs": [
        {
          "output_type": "stream",
          "name": "stdout",
          "text": [
            "542/542 [==============================] - 162s 48ms/step - loss: 0.5136 - accuracy: 0.7414\n"
          ]
        },
        {
          "output_type": "execute_result",
          "data": {
            "text/plain": [
              "[0.5136251449584961, 0.7414446473121643]"
            ]
          },
          "metadata": {},
          "execution_count": 30
        }
      ]
    },
    {
      "cell_type": "code",
      "source": [
        "y_pred = model.predict(test_dataset)\n",
        "y_class_pred = np.argmax(y_pred, axis=-1)\n",
        "y_act = np.concatenate([y for x, y in test_dataset], axis=0)\n",
        "\n",
        "plot_confusion_matrix(y_act, y_class_pred)"
      ],
      "metadata": {
        "colab": {
          "base_uri": "https://localhost:8080/",
          "height": 1000
        },
        "id": "HIos7GyCJNjG",
        "outputId": "c068e2fc-eb3c-45c6-94b3-f32ac140ad26"
      },
      "execution_count": 31,
      "outputs": [
        {
          "output_type": "stream",
          "name": "stdout",
          "text": [
            "542/542 [==============================] - 26s 47ms/step\n"
          ]
        },
        {
          "output_type": "display_data",
          "data": {
            "text/plain": [
              "<Figure size 1600x1200 with 1 Axes>"
            ],
            "image/png": "[encoded data removed]"
          },
          "metadata": {}
        }
      ]
    },
    {
      "cell_type": "code",
      "source": [
        "print_validation_report(y_act, y_class_pred)"
      ],
      "metadata": {
        "colab": {
          "base_uri": "https://localhost:8080/"
        },
        "id": "pHF2sECg2KyA",
        "outputId": "3c3d15b9-afa6-4fbe-8e48-65436c206ac1"
      },
      "execution_count": 32,
      "outputs": [
        {
          "output_type": "stream",
          "name": "stdout",
          "text": [
            "Classification Report\n",
            "              precision    recall  f1-score   support\n",
            "\n",
            "           0       0.94      0.98      0.96     11115\n",
            "           1       0.69      0.71      0.70     15988\n",
            "           2       0.86      0.98      0.91      1762\n",
            "           3       0.56      0.50      0.53     10701\n",
            "\n",
            "    accuracy                           0.74     39566\n",
            "   macro avg       0.76      0.79      0.78     39566\n",
            "weighted avg       0.73      0.74      0.74     39566\n",
            "\n",
            "Accuracy Score: 0.7414446747207198\n",
            "Root Mean Square Error: 1.013518791486649\n"
          ]
        }
      ]
    },
    {
      "cell_type": "markdown",
      "source": [
        "### Final Model 3"
      ],
      "metadata": {
        "id": "a_UPMTY77MMw"
      }
    },
    {
      "cell_type": "code",
      "source": [
        "keras.backend.clear_session()\n",
        "\n",
        "inputs = keras.Input(shape=(sequence_length, n_feats))\n",
        "x = keras.layers.Masking(mask_value=0)(inputs)\n",
        "x = keras.layers.Bidirectional(keras.layers.LSTM(38, recurrent_dropout = 0.2, return_sequences = True))(x)\n",
        "x = keras.layers.Dropout(0.3)(x)\n",
        "x = keras.layers.Bidirectional(keras.layers.LSTM(16, recurrent_dropout = 0.2, return_sequences = False))(x)\n",
        "x = keras.layers.Dropout(0.3)(x)\n",
        "outputs = keras.layers.Dense(4, activation=\"softmax\")(x)\n",
        "model = keras.Model(inputs=inputs, outputs=outputs)\n",
        "\n",
        "model.summary()"
      ],
      "metadata": {
        "colab": {
          "base_uri": "https://localhost:8080/"
        },
        "id": "YToEVZbd7L2I",
        "outputId": "ba0bad78-bc74-4449-cd5e-f3c7645c7a85"
      },
      "execution_count": 33,
      "outputs": [
        {
          "output_type": "stream",
          "name": "stdout",
          "text": [
            "Model: \"model\"\n",
            "_________________________________________________________________\n",
            " Layer (type)                Output Shape              Param #   \n",
            "=================================================================\n",
            " input_1 (InputLayer)        [(None, 15, 45)]          0         \n",
            "                                                                 \n",
            " masking (Masking)           (None, 15, 45)            0         \n",
            "                                                                 \n",
            " bidirectional (Bidirectiona  (None, 15, 76)           25536     \n",
            " l)                                                              \n",
            "                                                                 \n",
            " dropout (Dropout)           (None, 15, 76)            0         \n",
            "                                                                 \n",
            " bidirectional_1 (Bidirectio  (None, 32)               11904     \n",
            " nal)                                                            \n",
            "                                                                 \n",
            " dropout_1 (Dropout)         (None, 32)                0         \n",
            "                                                                 \n",
            " dense (Dense)               (None, 4)                 132       \n",
            "                                                                 \n",
            "=================================================================\n",
            "Total params: 37,572\n",
            "Trainable params: 37,572\n",
            "Non-trainable params: 0\n",
            "_________________________________________________________________\n"
          ]
        }
      ]
    },
    {
      "cell_type": "code",
      "source": [
        "model.compile(optimizer = \"Adam\", loss = \"sparse_categorical_crossentropy\", metrics = ['accuracy'])\n",
        "callbacks = [keras.callbacks.ModelCheckpoint(\"nflplay_final_03.h5\", save_best_only=True),\n",
        "             keras.callbacks.EarlyStopping(monitor = 'val_accuracy',patience=5),\n",
        "             TimeCallback()]\n",
        "history = model.fit(train_dataset, epochs = 25, validation_data = valid_dataset, callbacks = callbacks)"
      ],
      "metadata": {
        "colab": {
          "base_uri": "https://localhost:8080/"
        },
        "id": "E1pysDH361t1",
        "outputId": "96308967-c815-4b83-d50b-f404b450a6d7"
      },
      "execution_count": 34,
      "outputs": [
        {
          "output_type": "stream",
          "name": "stdout",
          "text": [
            "Epoch 1/25\n",
            "786/786 [==============================] - 123s 142ms/step - loss: 0.9496 - accuracy: 0.6531 - val_loss: 0.7685 - val_accuracy: 0.6990\n",
            "Epoch 2/25\n",
            "786/786 [==============================] - 108s 138ms/step - loss: 0.6955 - accuracy: 0.6972 - val_loss: 0.6092 - val_accuracy: 0.7270\n",
            "Epoch 3/25\n",
            "786/786 [==============================] - 100s 127ms/step - loss: 0.6049 - accuracy: 0.7150 - val_loss: 0.5665 - val_accuracy: 0.7280\n",
            "Epoch 4/25\n",
            "786/786 [==============================] - 109s 139ms/step - loss: 0.5849 - accuracy: 0.7131 - val_loss: 0.5515 - val_accuracy: 0.7319\n",
            "Epoch 5/25\n",
            "786/786 [==============================] - 101s 129ms/step - loss: 0.5644 - accuracy: 0.7161 - val_loss: 0.5392 - val_accuracy: 0.7336\n",
            "Epoch 6/25\n",
            "786/786 [==============================] - 108s 138ms/step - loss: 0.5546 - accuracy: 0.7199 - val_loss: 0.5365 - val_accuracy: 0.7325\n",
            "Epoch 7/25\n",
            "786/786 [==============================] - 100s 127ms/step - loss: 0.5509 - accuracy: 0.7218 - val_loss: 0.5314 - val_accuracy: 0.7327\n",
            "Epoch 8/25\n",
            "786/786 [==============================] - 109s 139ms/step - loss: 0.5456 - accuracy: 0.7231 - val_loss: 0.5388 - val_accuracy: 0.7251\n",
            "Epoch 9/25\n",
            "786/786 [==============================] - 110s 140ms/step - loss: 0.5427 - accuracy: 0.7249 - val_loss: 0.5269 - val_accuracy: 0.7350\n",
            "Epoch 10/25\n",
            "786/786 [==============================] - 109s 139ms/step - loss: 0.5408 - accuracy: 0.7243 - val_loss: 0.5261 - val_accuracy: 0.7359\n",
            "Epoch 11/25\n",
            "786/786 [==============================] - 100s 127ms/step - loss: 0.5387 - accuracy: 0.7242 - val_loss: 0.5272 - val_accuracy: 0.7349\n",
            "Epoch 12/25\n",
            "786/786 [==============================] - 110s 140ms/step - loss: 0.5352 - accuracy: 0.7279 - val_loss: 0.5235 - val_accuracy: 0.7334\n",
            "Epoch 13/25\n",
            "786/786 [==============================] - 109s 139ms/step - loss: 0.5337 - accuracy: 0.7283 - val_loss: 0.5223 - val_accuracy: 0.7369\n",
            "Epoch 14/25\n",
            "786/786 [==============================] - 100s 127ms/step - loss: 0.5312 - accuracy: 0.7277 - val_loss: 0.5290 - val_accuracy: 0.7314\n",
            "Epoch 15/25\n",
            "786/786 [==============================] - 100s 128ms/step - loss: 0.5302 - accuracy: 0.7294 - val_loss: 0.5186 - val_accuracy: 0.7385\n",
            "Epoch 16/25\n",
            "786/786 [==============================] - 113s 144ms/step - loss: 0.5285 - accuracy: 0.7306 - val_loss: 0.5246 - val_accuracy: 0.7341\n",
            "Epoch 17/25\n",
            "786/786 [==============================] - 104s 132ms/step - loss: 0.5276 - accuracy: 0.7323 - val_loss: 0.5180 - val_accuracy: 0.7413\n",
            "Epoch 18/25\n",
            "786/786 [==============================] - 105s 134ms/step - loss: 0.5248 - accuracy: 0.7335 - val_loss: 0.5171 - val_accuracy: 0.7396\n",
            "Epoch 19/25\n",
            "786/786 [==============================] - 110s 140ms/step - loss: 0.5227 - accuracy: 0.7310 - val_loss: 0.5204 - val_accuracy: 0.7330\n",
            "Epoch 20/25\n",
            "786/786 [==============================] - 104s 133ms/step - loss: 0.5217 - accuracy: 0.7335 - val_loss: 0.5250 - val_accuracy: 0.7295\n",
            "Epoch 21/25\n",
            "786/786 [==============================] - 112s 143ms/step - loss: 0.5227 - accuracy: 0.7331 - val_loss: 0.5231 - val_accuracy: 0.7329\n",
            "Epoch 22/25\n",
            "786/786 [==============================] - 110s 140ms/step - loss: 0.5201 - accuracy: 0.7343 - val_loss: 0.5198 - val_accuracy: 0.7331\n",
            "Training time: 2612.0110247135162 seconds\n"
          ]
        }
      ]
    },
    {
      "cell_type": "code",
      "source": [
        "plot_history(history)"
      ],
      "metadata": {
        "id": "IYtg8XGz_5YJ"
      },
      "execution_count": null,
      "outputs": []
    },
    {
      "cell_type": "code",
      "source": [
        "model = keras.models.load_model(\"nflplay_final_03.h5\")\n",
        "model.evaluate(test_dataset)"
      ],
      "metadata": {
        "id": "SYHlzvz3__dk"
      },
      "execution_count": null,
      "outputs": []
    },
    {
      "cell_type": "code",
      "source": [
        "y_pred = model.predict(test_dataset)\n",
        "y_class_pred = np.argmax(y_pred, axis=-1)\n",
        "y_act = np.concatenate([y for x, y in test_dataset], axis=0)\n",
        "\n",
        "plot_confusion_matrix(y_act, y_class_pred)"
      ],
      "metadata": {
        "id": "v19SH3w1ACi2"
      },
      "execution_count": null,
      "outputs": []
    },
    {
      "cell_type": "code",
      "source": [
        "print_validation_report(y_act, y_class_pred)"
      ],
      "metadata": {
        "id": "x9-GhGKn_5QS"
      },
      "execution_count": null,
      "outputs": []
    },
    {
      "cell_type": "code",
      "source": [],
      "metadata": {
        "id": "JvXjFrZitpTl"
      },
      "execution_count": null,
      "outputs": []
    }
  ],
  "metadata": {
    "kernelspec": {
      "display_name": "Python 3",
      "name": "python3"
    },
    "language_info": {
      "codemirror_mode": {
        "name": "ipython",
        "version": 3
      },
      "file_extension": ".py",
      "mimetype": "text/x-python",
      "name": "python",
      "nbconvert_exporter": "python",
      "pygments_lexer": "ipython3",
      "version": "3.9.13"
    },
    "orig_nbformat": 4,
    "colab": {
      "provenance": [],
      "gpuType": "T4",
      "toc_visible": true
    },
    "accelerator": "GPU"
  },
  "nbformat": 4,
  "nbformat_minor": 0
}